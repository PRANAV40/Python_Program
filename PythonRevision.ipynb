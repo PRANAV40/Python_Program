{
  "nbformat": 4,
  "nbformat_minor": 0,
  "metadata": {
    "colab": {
      "provenance": [],
      "authorship_tag": "ABX9TyPTgsglGEtffz674a5JqPeG",
      "include_colab_link": true
    },
    "kernelspec": {
      "name": "python3",
      "display_name": "Python 3"
    },
    "language_info": {
      "name": "python"
    }
  },
  "cells": [
    {
      "cell_type": "markdown",
      "metadata": {
        "id": "view-in-github",
        "colab_type": "text"
      },
      "source": [
        "<a href=\"https://colab.research.google.com/github/PRANAV40/Python_Program/blob/main/PythonRevision.ipynb\" target=\"_parent\"><img src=\"https://colab.research.google.com/assets/colab-badge.svg\" alt=\"Open In Colab\"/></a>"
      ]
    },
    {
      "cell_type": "code",
      "execution_count": null,
      "metadata": {
        "id": "Ee5JQyG6GFuX"
      },
      "outputs": [],
      "source": [
        "#A single line that makes your Python code blazingly fast.\n",
        "from numba import njit\n",
        "\n",
        "@njit\n",
        "def function_without_numba():\n",
        "  result = []\n",
        "  for a in range(10000):\n",
        "    for b in range(10000):\n",
        "      if (a+b)%11 == 0:\n",
        "        result.append((a,b))\n",
        "function_without_numba()"
      ]
    },
    {
      "cell_type": "code",
      "source": [
        "#Find your country on a Map using Python\n",
        "import plotly.express as px\n",
        "\n",
        "country = input(\"Enter you country name here: \")\n",
        "data = {\n",
        "    'Country' : [country],\n",
        "    'Values'  : [100]\n",
        "}\n",
        "fig = px.choropleth(\n",
        "    data,\n",
        "    locations='Country',\n",
        "    locationmode='country names',\n",
        "    color='Values',\n",
        "    color_continuous_scale='Inferno',\n",
        "    title=f'Country Map Highlighting(Country)'\n",
        ")\n",
        "fig.show()"
      ],
      "metadata": {
        "colab": {
          "base_uri": "https://localhost:8080/",
          "height": 559
        },
        "id": "VRQJZSORGmCV",
        "outputId": "8a64bcde-0f8a-4456-9c69-7ac9fd15076d"
      },
      "execution_count": null,
      "outputs": [
        {
          "name": "stdout",
          "output_type": "stream",
          "text": [
            "Enter you country name here: China\n"
          ]
        },
        {
          "output_type": "display_data",
          "data": {
            "text/html": [
              "<html>\n",
              "<head><meta charset=\"utf-8\" /></head>\n",
              "<body>\n",
              "    <div>            <script src=\"https://cdnjs.cloudflare.com/ajax/libs/mathjax/2.7.5/MathJax.js?config=TeX-AMS-MML_SVG\"></script><script type=\"text/javascript\">if (window.MathJax && window.MathJax.Hub && window.MathJax.Hub.Config) {window.MathJax.Hub.Config({SVG: {font: \"STIX-Web\"}});}</script>                <script type=\"text/javascript\">window.PlotlyConfig = {MathJaxConfig: 'local'};</script>\n",
              "        <script charset=\"utf-8\" src=\"https://cdn.plot.ly/plotly-2.35.2.min.js\"></script>                <div id=\"2fa9fc85-d43a-41a7-a8a7-69912de52f2e\" class=\"plotly-graph-div\" style=\"height:525px; width:100%;\"></div>            <script type=\"text/javascript\">                                    window.PLOTLYENV=window.PLOTLYENV || {};                                    if (document.getElementById(\"2fa9fc85-d43a-41a7-a8a7-69912de52f2e\")) {                    Plotly.newPlot(                        \"2fa9fc85-d43a-41a7-a8a7-69912de52f2e\",                        [{\"coloraxis\":\"coloraxis\",\"geo\":\"geo\",\"hovertemplate\":\"Country=%{location}\\u003cbr\\u003eValues=%{z}\\u003cextra\\u003e\\u003c\\u002fextra\\u003e\",\"locationmode\":\"country names\",\"locations\":[\"China\"],\"name\":\"\",\"z\":[100],\"type\":\"choropleth\"}],                        {\"template\":{\"data\":{\"histogram2dcontour\":[{\"type\":\"histogram2dcontour\",\"colorbar\":{\"outlinewidth\":0,\"ticks\":\"\"},\"colorscale\":[[0.0,\"#0d0887\"],[0.1111111111111111,\"#46039f\"],[0.2222222222222222,\"#7201a8\"],[0.3333333333333333,\"#9c179e\"],[0.4444444444444444,\"#bd3786\"],[0.5555555555555556,\"#d8576b\"],[0.6666666666666666,\"#ed7953\"],[0.7777777777777778,\"#fb9f3a\"],[0.8888888888888888,\"#fdca26\"],[1.0,\"#f0f921\"]]}],\"choropleth\":[{\"type\":\"choropleth\",\"colorbar\":{\"outlinewidth\":0,\"ticks\":\"\"}}],\"histogram2d\":[{\"type\":\"histogram2d\",\"colorbar\":{\"outlinewidth\":0,\"ticks\":\"\"},\"colorscale\":[[0.0,\"#0d0887\"],[0.1111111111111111,\"#46039f\"],[0.2222222222222222,\"#7201a8\"],[0.3333333333333333,\"#9c179e\"],[0.4444444444444444,\"#bd3786\"],[0.5555555555555556,\"#d8576b\"],[0.6666666666666666,\"#ed7953\"],[0.7777777777777778,\"#fb9f3a\"],[0.8888888888888888,\"#fdca26\"],[1.0,\"#f0f921\"]]}],\"heatmap\":[{\"type\":\"heatmap\",\"colorbar\":{\"outlinewidth\":0,\"ticks\":\"\"},\"colorscale\":[[0.0,\"#0d0887\"],[0.1111111111111111,\"#46039f\"],[0.2222222222222222,\"#7201a8\"],[0.3333333333333333,\"#9c179e\"],[0.4444444444444444,\"#bd3786\"],[0.5555555555555556,\"#d8576b\"],[0.6666666666666666,\"#ed7953\"],[0.7777777777777778,\"#fb9f3a\"],[0.8888888888888888,\"#fdca26\"],[1.0,\"#f0f921\"]]}],\"heatmapgl\":[{\"type\":\"heatmapgl\",\"colorbar\":{\"outlinewidth\":0,\"ticks\":\"\"},\"colorscale\":[[0.0,\"#0d0887\"],[0.1111111111111111,\"#46039f\"],[0.2222222222222222,\"#7201a8\"],[0.3333333333333333,\"#9c179e\"],[0.4444444444444444,\"#bd3786\"],[0.5555555555555556,\"#d8576b\"],[0.6666666666666666,\"#ed7953\"],[0.7777777777777778,\"#fb9f3a\"],[0.8888888888888888,\"#fdca26\"],[1.0,\"#f0f921\"]]}],\"contourcarpet\":[{\"type\":\"contourcarpet\",\"colorbar\":{\"outlinewidth\":0,\"ticks\":\"\"}}],\"contour\":[{\"type\":\"contour\",\"colorbar\":{\"outlinewidth\":0,\"ticks\":\"\"},\"colorscale\":[[0.0,\"#0d0887\"],[0.1111111111111111,\"#46039f\"],[0.2222222222222222,\"#7201a8\"],[0.3333333333333333,\"#9c179e\"],[0.4444444444444444,\"#bd3786\"],[0.5555555555555556,\"#d8576b\"],[0.6666666666666666,\"#ed7953\"],[0.7777777777777778,\"#fb9f3a\"],[0.8888888888888888,\"#fdca26\"],[1.0,\"#f0f921\"]]}],\"surface\":[{\"type\":\"surface\",\"colorbar\":{\"outlinewidth\":0,\"ticks\":\"\"},\"colorscale\":[[0.0,\"#0d0887\"],[0.1111111111111111,\"#46039f\"],[0.2222222222222222,\"#7201a8\"],[0.3333333333333333,\"#9c179e\"],[0.4444444444444444,\"#bd3786\"],[0.5555555555555556,\"#d8576b\"],[0.6666666666666666,\"#ed7953\"],[0.7777777777777778,\"#fb9f3a\"],[0.8888888888888888,\"#fdca26\"],[1.0,\"#f0f921\"]]}],\"mesh3d\":[{\"type\":\"mesh3d\",\"colorbar\":{\"outlinewidth\":0,\"ticks\":\"\"}}],\"scatter\":[{\"fillpattern\":{\"fillmode\":\"overlay\",\"size\":10,\"solidity\":0.2},\"type\":\"scatter\"}],\"parcoords\":[{\"type\":\"parcoords\",\"line\":{\"colorbar\":{\"outlinewidth\":0,\"ticks\":\"\"}}}],\"scatterpolargl\":[{\"type\":\"scatterpolargl\",\"marker\":{\"colorbar\":{\"outlinewidth\":0,\"ticks\":\"\"}}}],\"bar\":[{\"error_x\":{\"color\":\"#2a3f5f\"},\"error_y\":{\"color\":\"#2a3f5f\"},\"marker\":{\"line\":{\"color\":\"#E5ECF6\",\"width\":0.5},\"pattern\":{\"fillmode\":\"overlay\",\"size\":10,\"solidity\":0.2}},\"type\":\"bar\"}],\"scattergeo\":[{\"type\":\"scattergeo\",\"marker\":{\"colorbar\":{\"outlinewidth\":0,\"ticks\":\"\"}}}],\"scatterpolar\":[{\"type\":\"scatterpolar\",\"marker\":{\"colorbar\":{\"outlinewidth\":0,\"ticks\":\"\"}}}],\"histogram\":[{\"marker\":{\"pattern\":{\"fillmode\":\"overlay\",\"size\":10,\"solidity\":0.2}},\"type\":\"histogram\"}],\"scattergl\":[{\"type\":\"scattergl\",\"marker\":{\"colorbar\":{\"outlinewidth\":0,\"ticks\":\"\"}}}],\"scatter3d\":[{\"type\":\"scatter3d\",\"line\":{\"colorbar\":{\"outlinewidth\":0,\"ticks\":\"\"}},\"marker\":{\"colorbar\":{\"outlinewidth\":0,\"ticks\":\"\"}}}],\"scattermapbox\":[{\"type\":\"scattermapbox\",\"marker\":{\"colorbar\":{\"outlinewidth\":0,\"ticks\":\"\"}}}],\"scatterternary\":[{\"type\":\"scatterternary\",\"marker\":{\"colorbar\":{\"outlinewidth\":0,\"ticks\":\"\"}}}],\"scattercarpet\":[{\"type\":\"scattercarpet\",\"marker\":{\"colorbar\":{\"outlinewidth\":0,\"ticks\":\"\"}}}],\"carpet\":[{\"aaxis\":{\"endlinecolor\":\"#2a3f5f\",\"gridcolor\":\"white\",\"linecolor\":\"white\",\"minorgridcolor\":\"white\",\"startlinecolor\":\"#2a3f5f\"},\"baxis\":{\"endlinecolor\":\"#2a3f5f\",\"gridcolor\":\"white\",\"linecolor\":\"white\",\"minorgridcolor\":\"white\",\"startlinecolor\":\"#2a3f5f\"},\"type\":\"carpet\"}],\"table\":[{\"cells\":{\"fill\":{\"color\":\"#EBF0F8\"},\"line\":{\"color\":\"white\"}},\"header\":{\"fill\":{\"color\":\"#C8D4E3\"},\"line\":{\"color\":\"white\"}},\"type\":\"table\"}],\"barpolar\":[{\"marker\":{\"line\":{\"color\":\"#E5ECF6\",\"width\":0.5},\"pattern\":{\"fillmode\":\"overlay\",\"size\":10,\"solidity\":0.2}},\"type\":\"barpolar\"}],\"pie\":[{\"automargin\":true,\"type\":\"pie\"}]},\"layout\":{\"autotypenumbers\":\"strict\",\"colorway\":[\"#636efa\",\"#EF553B\",\"#00cc96\",\"#ab63fa\",\"#FFA15A\",\"#19d3f3\",\"#FF6692\",\"#B6E880\",\"#FF97FF\",\"#FECB52\"],\"font\":{\"color\":\"#2a3f5f\"},\"hovermode\":\"closest\",\"hoverlabel\":{\"align\":\"left\"},\"paper_bgcolor\":\"white\",\"plot_bgcolor\":\"#E5ECF6\",\"polar\":{\"bgcolor\":\"#E5ECF6\",\"angularaxis\":{\"gridcolor\":\"white\",\"linecolor\":\"white\",\"ticks\":\"\"},\"radialaxis\":{\"gridcolor\":\"white\",\"linecolor\":\"white\",\"ticks\":\"\"}},\"ternary\":{\"bgcolor\":\"#E5ECF6\",\"aaxis\":{\"gridcolor\":\"white\",\"linecolor\":\"white\",\"ticks\":\"\"},\"baxis\":{\"gridcolor\":\"white\",\"linecolor\":\"white\",\"ticks\":\"\"},\"caxis\":{\"gridcolor\":\"white\",\"linecolor\":\"white\",\"ticks\":\"\"}},\"coloraxis\":{\"colorbar\":{\"outlinewidth\":0,\"ticks\":\"\"}},\"colorscale\":{\"sequential\":[[0.0,\"#0d0887\"],[0.1111111111111111,\"#46039f\"],[0.2222222222222222,\"#7201a8\"],[0.3333333333333333,\"#9c179e\"],[0.4444444444444444,\"#bd3786\"],[0.5555555555555556,\"#d8576b\"],[0.6666666666666666,\"#ed7953\"],[0.7777777777777778,\"#fb9f3a\"],[0.8888888888888888,\"#fdca26\"],[1.0,\"#f0f921\"]],\"sequentialminus\":[[0.0,\"#0d0887\"],[0.1111111111111111,\"#46039f\"],[0.2222222222222222,\"#7201a8\"],[0.3333333333333333,\"#9c179e\"],[0.4444444444444444,\"#bd3786\"],[0.5555555555555556,\"#d8576b\"],[0.6666666666666666,\"#ed7953\"],[0.7777777777777778,\"#fb9f3a\"],[0.8888888888888888,\"#fdca26\"],[1.0,\"#f0f921\"]],\"diverging\":[[0,\"#8e0152\"],[0.1,\"#c51b7d\"],[0.2,\"#de77ae\"],[0.3,\"#f1b6da\"],[0.4,\"#fde0ef\"],[0.5,\"#f7f7f7\"],[0.6,\"#e6f5d0\"],[0.7,\"#b8e186\"],[0.8,\"#7fbc41\"],[0.9,\"#4d9221\"],[1,\"#276419\"]]},\"xaxis\":{\"gridcolor\":\"white\",\"linecolor\":\"white\",\"ticks\":\"\",\"title\":{\"standoff\":15},\"zerolinecolor\":\"white\",\"automargin\":true,\"zerolinewidth\":2},\"yaxis\":{\"gridcolor\":\"white\",\"linecolor\":\"white\",\"ticks\":\"\",\"title\":{\"standoff\":15},\"zerolinecolor\":\"white\",\"automargin\":true,\"zerolinewidth\":2},\"scene\":{\"xaxis\":{\"backgroundcolor\":\"#E5ECF6\",\"gridcolor\":\"white\",\"linecolor\":\"white\",\"showbackground\":true,\"ticks\":\"\",\"zerolinecolor\":\"white\",\"gridwidth\":2},\"yaxis\":{\"backgroundcolor\":\"#E5ECF6\",\"gridcolor\":\"white\",\"linecolor\":\"white\",\"showbackground\":true,\"ticks\":\"\",\"zerolinecolor\":\"white\",\"gridwidth\":2},\"zaxis\":{\"backgroundcolor\":\"#E5ECF6\",\"gridcolor\":\"white\",\"linecolor\":\"white\",\"showbackground\":true,\"ticks\":\"\",\"zerolinecolor\":\"white\",\"gridwidth\":2}},\"shapedefaults\":{\"line\":{\"color\":\"#2a3f5f\"}},\"annotationdefaults\":{\"arrowcolor\":\"#2a3f5f\",\"arrowhead\":0,\"arrowwidth\":1},\"geo\":{\"bgcolor\":\"white\",\"landcolor\":\"#E5ECF6\",\"subunitcolor\":\"white\",\"showland\":true,\"showlakes\":true,\"lakecolor\":\"white\"},\"title\":{\"x\":0.05},\"mapbox\":{\"style\":\"light\"}}},\"geo\":{\"domain\":{\"x\":[0.0,1.0],\"y\":[0.0,1.0]},\"center\":{}},\"coloraxis\":{\"colorbar\":{\"title\":{\"text\":\"Values\"}},\"colorscale\":[[0.0,\"#000004\"],[0.1111111111111111,\"#1b0c41\"],[0.2222222222222222,\"#4a0c6b\"],[0.3333333333333333,\"#781c6d\"],[0.4444444444444444,\"#a52c60\"],[0.5555555555555556,\"#cf4446\"],[0.6666666666666666,\"#ed6925\"],[0.7777777777777778,\"#fb9b06\"],[0.8888888888888888,\"#f7d13d\"],[1.0,\"#fcffa4\"]]},\"legend\":{\"tracegroupgap\":0},\"title\":{\"text\":\"Country Map Highlighting(Country)\"}},                        {\"responsive\": true}                    ).then(function(){\n",
              "                            \n",
              "var gd = document.getElementById('2fa9fc85-d43a-41a7-a8a7-69912de52f2e');\n",
              "var x = new MutationObserver(function (mutations, observer) {{\n",
              "        var display = window.getComputedStyle(gd).display;\n",
              "        if (!display || display === 'none') {{\n",
              "            console.log([gd, 'removed!']);\n",
              "            Plotly.purge(gd);\n",
              "            observer.disconnect();\n",
              "        }}\n",
              "}});\n",
              "\n",
              "// Listen for the removal of the full notebook cells\n",
              "var notebookContainer = gd.closest('#notebook-container');\n",
              "if (notebookContainer) {{\n",
              "    x.observe(notebookContainer, {childList: true});\n",
              "}}\n",
              "\n",
              "// Listen for the clearing of the current output cell\n",
              "var outputEl = gd.closest('.output');\n",
              "if (outputEl) {{\n",
              "    x.observe(outputEl, {childList: true});\n",
              "}}\n",
              "\n",
              "                        })                };                            </script>        </div>\n",
              "</body>\n",
              "</html>"
            ]
          },
          "metadata": {}
        }
      ]
    },
    {
      "cell_type": "code",
      "source": [
        "#*args\n",
        "\n",
        "def numbers_value(*args):\n",
        "  for arg in args:\n",
        "    print(arg)\n",
        "\n",
        "numbers_value(1,2,4,5)"
      ],
      "metadata": {
        "id": "JahVqnKZLHwf",
        "colab": {
          "base_uri": "https://localhost:8080/"
        },
        "outputId": "434d6265-f916-4bef-a123-55945b85460c"
      },
      "execution_count": null,
      "outputs": [
        {
          "output_type": "stream",
          "name": "stdout",
          "text": [
            "1\n",
            "2\n",
            "4\n",
            "5\n"
          ]
        }
      ]
    },
    {
      "cell_type": "code",
      "source": [
        "#**kwargs\n",
        "\n",
        "def numbers_value(**kwargs):\n",
        "  for key, value in kwargs.items():\n",
        "    print(f\"{key}:{value}\")\n",
        "\n",
        "numbers_value(a=1,b=2,c=4,d=5)"
      ],
      "metadata": {
        "colab": {
          "base_uri": "https://localhost:8080/"
        },
        "id": "yTCm2YGy5ylz",
        "outputId": "1900b2c0-af6e-4c7d-f32a-03770cb129bf"
      },
      "execution_count": null,
      "outputs": [
        {
          "output_type": "stream",
          "name": "stdout",
          "text": [
            "a:1\n",
            "b:2\n",
            "c:4\n",
            "d:5\n"
          ]
        }
      ]
    },
    {
      "cell_type": "code",
      "source": [
        "def merge_arrays(arrayA, arrayB):\n",
        "  return sorted(set(arrayA + arrayB))\n",
        "\n",
        "a = [1,2,3,4,5,6,7,8,9]\n",
        "b = [1,2,3,4,5,6,7,8,9,10]\n",
        "c = merge_arrays(a,b)\n",
        "print(c)"
      ],
      "metadata": {
        "id": "YDVkZKTM6ijP",
        "colab": {
          "base_uri": "https://localhost:8080/"
        },
        "outputId": "fa04d2d3-8a56-4ea5-dd62-e26f76f6bb78"
      },
      "execution_count": null,
      "outputs": [
        {
          "output_type": "stream",
          "name": "stdout",
          "text": [
            "[1, 2, 3, 4, 5, 6, 7, 8, 9, 10]\n"
          ]
        }
      ]
    },
    {
      "cell_type": "code",
      "source": [
        "def square_patter(n):\n",
        "  for i in range(0,n):\n",
        "    if (i==0 or i == n-1):\n",
        "      print(\"X \" * n)\n",
        "    else:\n",
        "      print(\"X \" + \"  \" * (n - 2) + \"X\")\n",
        "square_patter(5)"
      ],
      "metadata": {
        "colab": {
          "base_uri": "https://localhost:8080/"
        },
        "id": "EU2eecAcOGDR",
        "outputId": "9c6d7f7e-d32e-4698-907b-d47305d3dc28"
      },
      "execution_count": null,
      "outputs": [
        {
          "output_type": "stream",
          "name": "stdout",
          "text": [
            "X X X X X \n",
            "X       X\n",
            "X       X\n",
            "X       X\n",
            "X X X X X \n"
          ]
        }
      ]
    },
    {
      "cell_type": "code",
      "source": [
        "def pattern(n):\n",
        "  for i in range(0,n):\n",
        "    print(\"X\")\n",
        "pattern(5)"
      ],
      "metadata": {
        "id": "WySjcb6DPCQx",
        "colab": {
          "base_uri": "https://localhost:8080/"
        },
        "outputId": "62a6b5cc-dae3-4bbe-9395-46633b37b2f4"
      },
      "execution_count": null,
      "outputs": [
        {
          "output_type": "stream",
          "name": "stdout",
          "text": [
            "X\n",
            "X\n",
            "X\n",
            "X\n",
            "X\n"
          ]
        }
      ]
    },
    {
      "cell_type": "code",
      "source": [
        "fruits = ['Apple','Banana','Chery','Pears']\n",
        "\n",
        "for idx, fruit in enumerate(fruits):\n",
        "  print(f'{idx}. {fruit}')"
      ],
      "metadata": {
        "id": "JFa09ja_1cn9",
        "colab": {
          "base_uri": "https://localhost:8080/"
        },
        "outputId": "8bb1557d-03fa-40e9-c91e-b0c6935233ea"
      },
      "execution_count": null,
      "outputs": [
        {
          "output_type": "stream",
          "name": "stdout",
          "text": [
            "0. Apple\n",
            "1. Banana\n",
            "2. Chery\n",
            "3. Pears\n"
          ]
        }
      ]
    },
    {
      "cell_type": "code",
      "source": [
        "fruits = ['Apple','Banana','Chery','Pears']\n",
        "\n",
        "for idx, fruit in enumerate(fruits):\n",
        "  print(f'{idx + 1}. {fruit}')"
      ],
      "metadata": {
        "colab": {
          "base_uri": "https://localhost:8080/"
        },
        "id": "HBumtfe5S4sS",
        "outputId": "9cd2a08a-7d2b-4b6a-d42e-493ec0ed9498"
      },
      "execution_count": null,
      "outputs": [
        {
          "output_type": "stream",
          "name": "stdout",
          "text": [
            "1. Apple\n",
            "2. Banana\n",
            "3. Chery\n",
            "4. Pears\n"
          ]
        }
      ]
    },
    {
      "cell_type": "code",
      "source": [
        "fruits = ['Apple','Banana','Chery','Pears']\n",
        "\n",
        "for idx, fruit in enumerate(fruits, start=1):\n",
        "  print(f'{idx}. {fruit}')"
      ],
      "metadata": {
        "colab": {
          "base_uri": "https://localhost:8080/"
        },
        "id": "iHzGVNiWSxD3",
        "outputId": "826dbbc3-08ec-414d-f193-67b1da86d4ea"
      },
      "execution_count": null,
      "outputs": [
        {
          "output_type": "stream",
          "name": "stdout",
          "text": [
            "1. Apple\n",
            "2. Banana\n",
            "3. Chery\n",
            "4. Pears\n"
          ]
        }
      ]
    },
    {
      "cell_type": "code",
      "source": [
        "def pattern(n):\n",
        "  for row in range(n):\n",
        "    print(row * \" \" + n * \"* \")\n",
        "pattern(4)"
      ],
      "metadata": {
        "colab": {
          "base_uri": "https://localhost:8080/"
        },
        "id": "5R1XSHLTSf2a",
        "outputId": "7375c48e-1def-4193-9f4f-b885a5ce0192"
      },
      "execution_count": null,
      "outputs": [
        {
          "output_type": "stream",
          "name": "stdout",
          "text": [
            "* * * * \n",
            " * * * * \n",
            "  * * * * \n",
            "   * * * * \n"
          ]
        }
      ]
    },
    {
      "cell_type": "code",
      "source": [
        "number: int = 1000\n",
        "print(number << 1)\n",
        "print(number >> 1)\n",
        "#The princple of this is right to multiply and left to multiply"
      ],
      "metadata": {
        "colab": {
          "base_uri": "https://localhost:8080/"
        },
        "id": "KRcqJ3ntTTcG",
        "outputId": "0b2209b1-ce5e-4139-cb6a-211e9f8189b2"
      },
      "execution_count": null,
      "outputs": [
        {
          "output_type": "stream",
          "name": "stdout",
          "text": [
            "2000\n",
            "500\n"
          ]
        }
      ]
    },
    {
      "cell_type": "code",
      "source": [
        "# Add two numbers\n",
        "num1 = 40\n",
        "num2 = 33\n",
        "print(num1 + num2)"
      ],
      "metadata": {
        "id": "QupvDwCyToIm",
        "colab": {
          "base_uri": "https://localhost:8080/"
        },
        "outputId": "b75f24d7-0bdc-4f30-b28d-113f734dc1bb"
      },
      "execution_count": null,
      "outputs": [
        {
          "output_type": "stream",
          "name": "stdout",
          "text": [
            "73\n"
          ]
        }
      ]
    },
    {
      "cell_type": "code",
      "source": [
        "num1 = int(input(\"Enter 1st number\"))\n",
        "num2 = int(input(\"Enter 2nd number\"))\n",
        "sum = num1 + num2\n",
        "print(sum)"
      ],
      "metadata": {
        "colab": {
          "base_uri": "https://localhost:8080/"
        },
        "id": "VAH_KNH9Q9-X",
        "outputId": "c537c506-1af2-4262-e6c2-bb6d08b946e9"
      },
      "execution_count": null,
      "outputs": [
        {
          "output_type": "stream",
          "name": "stdout",
          "text": [
            "Enter 1st number33\n",
            "Enter 2nd number23\n",
            "56\n"
          ]
        }
      ]
    },
    {
      "cell_type": "code",
      "source": [
        "#Square root\n",
        "num = 49\n",
        "sr = num**.5\n",
        "print(sr)"
      ],
      "metadata": {
        "colab": {
          "base_uri": "https://localhost:8080/"
        },
        "id": "5PHQ-uDJRUvt",
        "outputId": "35aa4817-b686-491e-a516-3c52c87e148c"
      },
      "execution_count": null,
      "outputs": [
        {
          "output_type": "stream",
          "name": "stdout",
          "text": [
            "7.0\n"
          ]
        }
      ]
    },
    {
      "cell_type": "code",
      "source": [
        "# Even or Odd\n",
        "num = int(input(\"Enter a num:\"))\n",
        "if num % 2 == 0:\n",
        "  print(\"Even\")\n",
        "else:\n",
        "  print(\"Odd\")"
      ],
      "metadata": {
        "colab": {
          "base_uri": "https://localhost:8080/"
        },
        "id": "d9tIHvHkRxlD",
        "outputId": "489b430c-a366-465c-ae60-a9156be5ff53"
      },
      "execution_count": null,
      "outputs": [
        {
          "output_type": "stream",
          "name": "stdout",
          "text": [
            "Enter a num:2\n",
            "Even\n"
          ]
        }
      ]
    },
    {
      "cell_type": "code",
      "source": [
        "#Leep year logic\n",
        "year = int(input(\"Enter year here: \"))\n",
        "if (year % 4 == 0 and year % 100 != 0) or (year % 400 == 0):\n",
        "  print(year,\"is leep year\")\n",
        "else:\n",
        "  print(year,\"is not a leep year\")"
      ],
      "metadata": {
        "colab": {
          "base_uri": "https://localhost:8080/"
        },
        "id": "NIgQl9wyS8W7",
        "outputId": "14a3bcea-ea17-42e8-f4ad-b7023467e34d"
      },
      "execution_count": null,
      "outputs": [
        {
          "output_type": "stream",
          "name": "stdout",
          "text": [
            "Enter year here: 2021\n",
            "2021 is not a leep year\n"
          ]
        }
      ]
    },
    {
      "cell_type": "code",
      "source": [
        "#Area of Trianle\n",
        "base = float(input(\"Enter the base of triagle\"))\n",
        "height = float(input(\"Enter the height of triagle\"))\n",
        "\n",
        "area = (0.5) * base * height\n",
        "print(area)"
      ],
      "metadata": {
        "colab": {
          "base_uri": "https://localhost:8080/"
        },
        "id": "G4JTBTERTtVC",
        "outputId": "4526ee28-0bc5-44e1-f2ae-87d73594e7f9"
      },
      "execution_count": null,
      "outputs": [
        {
          "output_type": "stream",
          "name": "stdout",
          "text": [
            "Enter the base of triagle12\n",
            "Enter the height of triagle5\n",
            "30.0\n"
          ]
        }
      ]
    },
    {
      "cell_type": "code",
      "source": [
        "# Kilometer to Miles in Python\n",
        "kilometer = float(input(\"Enter your kilometer: \"))\n",
        "\n",
        "conversion_factor = 0.621371\n",
        "\n",
        "miles = kilometer * conversion_factor\n",
        "print(f\"{kilometer} kilometers is equal to {miles:.2f} miles\")"
      ],
      "metadata": {
        "colab": {
          "base_uri": "https://localhost:8080/"
        },
        "id": "kziTQOHxUp8k",
        "outputId": "57cac5b7-5cbd-4a93-c788-fd779b504624"
      },
      "execution_count": null,
      "outputs": [
        {
          "output_type": "stream",
          "name": "stdout",
          "text": [
            "Enter your kilometer: 160\n",
            "160.0 kilometers is equal to 99.42 miles\n"
          ]
        }
      ]
    },
    {
      "cell_type": "code",
      "source": [
        "# Program to convert Celsius to Fahrenheit\n",
        "celsius = float(input(\"Enter your Celsius: \"))\n",
        "fahrenheit = (celsius * 1.8) + 32\n",
        "print(f\"{celsius}°C is equal to {fahrenheit}\")"
      ],
      "metadata": {
        "colab": {
          "base_uri": "https://localhost:8080/"
        },
        "id": "R9jZ5Jf-VwlH",
        "outputId": "c5a7c375-3885-416c-aeb0-59373f82558d"
      },
      "execution_count": null,
      "outputs": [
        {
          "output_type": "stream",
          "name": "stdout",
          "text": [
            "Enter your Celsius: 37.5\n",
            "37.5°C is equal to 99.5\n"
          ]
        }
      ]
    },
    {
      "cell_type": "code",
      "source": [
        "import random\n",
        "num = random.randint(1,10)\n",
        "print(num)"
      ],
      "metadata": {
        "colab": {
          "base_uri": "https://localhost:8080/"
        },
        "id": "qdFg4xMmX--B",
        "outputId": "c89b2c12-886c-494a-bc6c-6e2d1c841fe0"
      },
      "execution_count": null,
      "outputs": [
        {
          "output_type": "stream",
          "name": "stdout",
          "text": [
            "4\n"
          ]
        }
      ]
    },
    {
      "cell_type": "code",
      "source": [
        "import random\n",
        "num = random.random()\n",
        "print(num)"
      ],
      "metadata": {
        "colab": {
          "base_uri": "https://localhost:8080/"
        },
        "id": "zG1nGXrKYZuP",
        "outputId": "7cb50281-a695-4ba6-f296-59fa797310f6"
      },
      "execution_count": null,
      "outputs": [
        {
          "output_type": "stream",
          "name": "stdout",
          "text": [
            "0.8482105510177349\n"
          ]
        }
      ]
    },
    {
      "cell_type": "code",
      "source": [
        "#Wrirte a program to reverse a string\n",
        "def reverse_string(data):\n",
        "  res = \"\"\n",
        "  for char in data:\n",
        "    res = char + res\n",
        "\n",
        "  return res\n",
        "\n",
        "reverse_string(data=\"level\")"
      ],
      "metadata": {
        "id": "bAFEvWwWYqxj",
        "colab": {
          "base_uri": "https://localhost:8080/",
          "height": 35
        },
        "outputId": "f1ff384e-ce4f-4235-b864-f33c24d8e7d6"
      },
      "execution_count": null,
      "outputs": [
        {
          "output_type": "execute_result",
          "data": {
            "text/plain": [
              "'level'"
            ],
            "application/vnd.google.colaboratory.intrinsic+json": {
              "type": "string"
            }
          },
          "metadata": {},
          "execution_count": 4
        }
      ]
    },
    {
      "cell_type": "code",
      "source": [
        "#Write a program to delete all consonants from string\n",
        "def return_string(data):\n",
        "  vowels = 'AEIOUaeiou'\n",
        "  result = [char for char in data if not char.isalpha() or char in vowels]\n",
        "  return result\n",
        "\n",
        "return_string(data=\"Howareuiam\")"
      ],
      "metadata": {
        "colab": {
          "base_uri": "https://localhost:8080/"
        },
        "id": "r0BKJqXwpgYG",
        "outputId": "5eedd5d6-767d-4f44-8dec-b7093fc27228"
      },
      "execution_count": null,
      "outputs": [
        {
          "output_type": "execute_result",
          "data": {
            "text/plain": [
              "['o', 'a', 'e', 'u', 'i', 'a']"
            ]
          },
          "metadata": {},
          "execution_count": 2
        }
      ]
    },
    {
      "cell_type": "code",
      "source": [
        "#write a program to find the prime number between 1 to N\n",
        "def prime_number(num):\n",
        "  for z in range(2,num):\n",
        "    if num % z == 0:\n",
        "      return False\n",
        "  return True\n",
        "# num = int(input(\"Enter you number:\"))\n",
        "# prime_number(num)\n",
        "def add(number):\n",
        "  total = 0\n",
        "  for z in range(2,number + 1):\n",
        "    if(prime_number(z)):\n",
        "      total = total + z\n",
        "  return total\n",
        "add(number=10) # 2 + 3 + 5 + 11 + 13"
      ],
      "metadata": {
        "colab": {
          "base_uri": "https://localhost:8080/"
        },
        "id": "sT3yRh3drK1e",
        "outputId": "f673bfe0-2944-4a38-f41b-73ffc4963dd8"
      },
      "execution_count": null,
      "outputs": [
        {
          "output_type": "execute_result",
          "data": {
            "text/plain": [
              "17"
            ]
          },
          "metadata": {},
          "execution_count": 18
        }
      ]
    },
    {
      "cell_type": "code",
      "source": [
        "lsy = [1,2,4,3,5,1,4,2,7,9,4,6,9]\n",
        "\n",
        "rmv = set(lsy)\n",
        "print(list(rmv))"
      ],
      "metadata": {
        "colab": {
          "base_uri": "https://localhost:8080/"
        },
        "id": "0KjUlD_bsySd",
        "outputId": "5d772492-b859-4c76-d75e-d81458b94045"
      },
      "execution_count": null,
      "outputs": [
        {
          "output_type": "stream",
          "name": "stdout",
          "text": [
            "[1, 2, 3, 4, 5, 6, 7, 9]\n"
          ]
        }
      ]
    },
    {
      "cell_type": "code",
      "source": [
        "dicts = {\n",
        "    \"F_Name\" : \"Pranav\",\n",
        "    \"L_name\" : \"Mishra\",\n",
        "    \"Age\" : 24\n",
        "}\n",
        "print(dicts)"
      ],
      "metadata": {
        "colab": {
          "base_uri": "https://localhost:8080/"
        },
        "id": "8OEaVT42v_pG",
        "outputId": "d999fc4c-329d-4408-a4ae-b02ad2a59885"
      },
      "execution_count": null,
      "outputs": [
        {
          "output_type": "stream",
          "name": "stdout",
          "text": [
            "{'F_Name': 'Pranav', 'L_name': 'Mishra', 'Age': 24}\n"
          ]
        }
      ]
    },
    {
      "cell_type": "code",
      "source": [
        "def leep_year(year):\n",
        "  if(year % 4 == 0 and year % 100 != 0) or (year % 400 == 0):\n",
        "    return True\n",
        "  else:\n",
        "    return False\n",
        "\n",
        "input_year = int(input(\"Enter year here:\"))\n",
        "\n",
        "if leep_year(input_year):\n",
        "  print(f\"{input_year} is a leep year\")\n",
        "else:\n",
        "  print(f\"{input_year} is not a leep year\")"
      ],
      "metadata": {
        "id": "wjDp2Sd4wpH6",
        "colab": {
          "base_uri": "https://localhost:8080/"
        },
        "outputId": "a0b77b2a-aa99-4d80-b8b8-1d4d4215062a"
      },
      "execution_count": null,
      "outputs": [
        {
          "output_type": "stream",
          "name": "stdout",
          "text": [
            "Enter year here:2020\n",
            "2020is a leep year\n"
          ]
        }
      ]
    },
    {
      "cell_type": "code",
      "source": [
        "def reverse_string(strings):\n",
        "  # return strings[::-1]\n",
        "\n",
        "  reversestring = \"\"\n",
        "  for char in strings:\n",
        "    reversestring = char + reversestring\n",
        "  return reversestring\n",
        "\n",
        "input_string = \"Hello World\"\n",
        "reversestrings = reverse_string(input_string)\n",
        "print(\"Orignal string: \",input_string)\n",
        "print(\"Reverse string: \",reversestrings)"
      ],
      "metadata": {
        "colab": {
          "base_uri": "https://localhost:8080/"
        },
        "id": "KPPIT8rwoC6N",
        "outputId": "1740d68d-d40b-4882-8362-81634600b32f"
      },
      "execution_count": null,
      "outputs": [
        {
          "output_type": "stream",
          "name": "stdout",
          "text": [
            "Orignal string:  Hello World\n",
            "Reverse string:  dlroW olleH\n"
          ]
        }
      ]
    },
    {
      "cell_type": "code",
      "source": [
        "# is: It is a identity operator and Check memory reference/memor address of two object\n",
        "# ==: It is comparison operator and Check actual contents/values of two objects.\n",
        "a = 10\n",
        "print(id(a))\n",
        "b = 10\n",
        "print(id(b))\n",
        "\n",
        "print(a is b)"
      ],
      "metadata": {
        "id": "PkgPN9VZq7Bp",
        "colab": {
          "base_uri": "https://localhost:8080/"
        },
        "outputId": "de00fc0c-447a-4c90-c345-b90a2898a265"
      },
      "execution_count": null,
      "outputs": [
        {
          "output_type": "stream",
          "name": "stdout",
          "text": [
            "134390910321168\n",
            "134390910321168\n",
            "True\n"
          ]
        }
      ]
    },
    {
      "cell_type": "code",
      "source": [
        "ls = [10,20,30]\n",
        "ls1 = [10,20,30]\n",
        "print(id(ls))\n",
        "print(id(ls1))\n",
        "print(ls is ls1)\n",
        "print(ls == ls1)"
      ],
      "metadata": {
        "colab": {
          "base_uri": "https://localhost:8080/"
        },
        "id": "e2Dz30zjgeV7",
        "outputId": "acc4f9b7-c482-491a-c989-b9ed76016dcd"
      },
      "execution_count": null,
      "outputs": [
        {
          "output_type": "stream",
          "name": "stdout",
          "text": [
            "134390601286528\n",
            "134390601300928\n",
            "False\n",
            "True\n"
          ]
        }
      ]
    },
    {
      "cell_type": "code",
      "source": [
        "from os import PRIO_USER\n",
        "# Wrte a Python function to move all the even numbers to the front of the list while maintaing their original order.\n",
        "# The odd numbers should follow in their original order\n",
        "# original_list = [1,2,3,4,5,6,7,8,9]\n",
        "# Desired_output = [2,4,6,8,,1,3,5,7,9]\n",
        "\n",
        "original_list = [1,2,3,4,5,6,7,8,9]\n",
        "even = []\n",
        "odd = []\n",
        "for num in original_list:\n",
        "  if num %2 == 0:\n",
        "    even.append(num)\n",
        "  else:\n",
        "    odd.append(num)\n",
        "\n",
        "print(even)\n",
        "print(odd)\n",
        "print(even + odd)"
      ],
      "metadata": {
        "colab": {
          "base_uri": "https://localhost:8080/"
        },
        "id": "twB7yYHng5df",
        "outputId": "85245157-6a19-4100-f30f-14798654d276"
      },
      "execution_count": null,
      "outputs": [
        {
          "output_type": "stream",
          "name": "stdout",
          "text": [
            "[2, 4, 6, 8]\n",
            "[1, 3, 5, 7, 9]\n",
            "[2, 4, 6, 8, 1, 3, 5, 7, 9]\n"
          ]
        }
      ]
    },
    {
      "cell_type": "code",
      "source": [
        "#Solve the above question using function\n",
        "original_list = [1,2,3,4,5,6,7,8,9]\n",
        "even = []\n",
        "odd = []\n",
        "\n",
        "def solution(data):\n",
        "  for num in data:\n",
        "      if num%2 == 0:\n",
        "        even.append(num)\n",
        "      else:\n",
        "        odd.append(num)\n",
        "  return even + odd\n",
        "number = solution(original_list)\n",
        "print(\"This is solve using function\",number)"
      ],
      "metadata": {
        "colab": {
          "base_uri": "https://localhost:8080/"
        },
        "id": "sFHH-zhJnPse",
        "outputId": "af61385c-7d58-4bdf-a3c3-619aa2cd034f"
      },
      "execution_count": null,
      "outputs": [
        {
          "output_type": "stream",
          "name": "stdout",
          "text": [
            "This is solve using function [2, 4, 6, 8, 1, 3, 5, 7, 9]\n"
          ]
        }
      ]
    },
    {
      "cell_type": "code",
      "source": [
        "#Solve the above question using List comprehension\n",
        "original_list = [1,2,3,4,5,6,7,8,9]\n",
        "def list_solutons(data):\n",
        "  even = [num for num in data if num%2 == 0]\n",
        "  odd = [num for num in data if num%2 != 0]\n",
        "  return even + odd\n",
        "\n",
        "print(\"This is solve using List Comprehension:\",list_solutons(original_list))"
      ],
      "metadata": {
        "colab": {
          "base_uri": "https://localhost:8080/"
        },
        "id": "tCoPY97iieVq",
        "outputId": "17396b85-4e55-4c23-9b73-5e27f95091f2"
      },
      "execution_count": null,
      "outputs": [
        {
          "output_type": "stream",
          "name": "stdout",
          "text": [
            "This is solve using List Comprehension: [2, 4, 6, 8, 1, 3, 5, 7, 9]\n"
          ]
        }
      ]
    },
    {
      "cell_type": "code",
      "source": [
        "# Solve the above question using sorted function\n",
        "original_list = [1,2,3,4,5,6,7,8,9]\n",
        "def even_odd(num):\n",
        "  if num%2 == 0:\n",
        "    return False\n",
        "  else:\n",
        "    return True\n",
        "\n",
        "print(sorted(original_list,key=even_odd))\n",
        "\n",
        "# Solve the above question using lambda function\n",
        "\n",
        "print(sorted(original_list,key=lambda num:num%2 != 0))"
      ],
      "metadata": {
        "colab": {
          "base_uri": "https://localhost:8080/"
        },
        "id": "0SjZSqlNnTcP",
        "outputId": "329e44cf-c94b-4466-8e06-5a955f1c787e"
      },
      "execution_count": null,
      "outputs": [
        {
          "output_type": "stream",
          "name": "stdout",
          "text": [
            "[2, 4, 6, 8, 1, 3, 5, 7, 9]\n",
            "[2, 4, 6, 8, 1, 3, 5, 7, 9]\n"
          ]
        }
      ]
    },
    {
      "cell_type": "code",
      "source": [
        "# Given list of integers return the maximum value\n",
        "def find_max(nums):\n",
        "  max_value = nums[0]\n",
        "  for i in range(0,len(nums)):\n",
        "    if nums[i] > max_value:\n",
        "      max_value = nums[i]\n",
        "\n",
        "  return max_value\n",
        "\n",
        "print(find_max([2,4,6,7,8,9,3]))\n",
        "print(find_max([1,1,1,1]))"
      ],
      "metadata": {
        "id": "swZ3ofmto3XN",
        "colab": {
          "base_uri": "https://localhost:8080/"
        },
        "outputId": "66a73f11-68cd-463e-aab2-0e55f05cfcc7"
      },
      "execution_count": null,
      "outputs": [
        {
          "output_type": "stream",
          "name": "stdout",
          "text": [
            "9\n",
            "1\n"
          ]
        }
      ]
    },
    {
      "cell_type": "code",
      "source": [
        "def triangle(n):\n",
        "  for i in range(n):\n",
        "    print(i* \" \" + n*\"* \")\n",
        "\n",
        "triangle(5)"
      ],
      "metadata": {
        "colab": {
          "base_uri": "https://localhost:8080/"
        },
        "id": "4rtqpCp9BPBL",
        "outputId": "e67193b2-3274-4f1b-ee6d-6575e4fb62ae"
      },
      "execution_count": null,
      "outputs": [
        {
          "output_type": "stream",
          "name": "stdout",
          "text": [
            "* * * * * \n",
            " * * * * * \n",
            "  * * * * * \n",
            "   * * * * * \n",
            "    * * * * * \n"
          ]
        }
      ]
    },
    {
      "cell_type": "code",
      "source": [
        "10 * \" Pranav\""
      ],
      "metadata": {
        "colab": {
          "base_uri": "https://localhost:8080/",
          "height": 35
        },
        "id": "Up1ozJwP6zLY",
        "outputId": "9e79b925-90c3-447b-a7c6-5b25af85e652"
      },
      "execution_count": null,
      "outputs": [
        {
          "output_type": "execute_result",
          "data": {
            "text/plain": [
              "' Pranav Pranav Pranav Pranav Pranav Pranav Pranav Pranav Pranav Pranav'"
            ],
            "application/vnd.google.colaboratory.intrinsic+json": {
              "type": "string"
            }
          },
          "metadata": {},
          "execution_count": 5
        }
      ]
    },
    {
      "cell_type": "code",
      "source": [
        "print(\"c:\\doc\\navin\")\n",
        "print(r\"c:\\doc\\navin\")"
      ],
      "metadata": {
        "colab": {
          "base_uri": "https://localhost:8080/"
        },
        "id": "Eq5Vuerr8gRo",
        "outputId": "0abd41f1-c48b-4de2-dc23-d2c2aa18467c"
      },
      "execution_count": null,
      "outputs": [
        {
          "output_type": "stream",
          "name": "stdout",
          "text": [
            "c:\\doc\n",
            "avin\n",
            "c:\\doc\\navin\n"
          ]
        }
      ]
    },
    {
      "cell_type": "code",
      "source": [
        "# List in Python\n",
        "nums = [25,12,36,95,13]\n",
        "nums"
      ],
      "metadata": {
        "colab": {
          "base_uri": "https://localhost:8080/"
        },
        "id": "sjSZ2v4j9hgU",
        "outputId": "5fa28b02-dd10-4063-ac68-b096e8995b08"
      },
      "execution_count": null,
      "outputs": [
        {
          "output_type": "execute_result",
          "data": {
            "text/plain": [
              "[25, 12, 36, 95, 13]"
            ]
          },
          "metadata": {},
          "execution_count": 7
        }
      ]
    },
    {
      "cell_type": "code",
      "source": [
        "nums[0]"
      ],
      "metadata": {
        "colab": {
          "base_uri": "https://localhost:8080/"
        },
        "id": "LEcUZN8ACdAt",
        "outputId": "621ebb17-0c16-4ea6-a554-d8b14a85ef8c"
      },
      "execution_count": null,
      "outputs": [
        {
          "output_type": "execute_result",
          "data": {
            "text/plain": [
              "25"
            ]
          },
          "metadata": {},
          "execution_count": 8
        }
      ]
    },
    {
      "cell_type": "code",
      "source": [
        "nums[4]"
      ],
      "metadata": {
        "colab": {
          "base_uri": "https://localhost:8080/"
        },
        "id": "ulZbDjZTCfDq",
        "outputId": "aeefdc12-9e11-4b6b-8f3f-4a5eca904bc1"
      },
      "execution_count": null,
      "outputs": [
        {
          "output_type": "execute_result",
          "data": {
            "text/plain": [
              "13"
            ]
          },
          "metadata": {},
          "execution_count": 9
        }
      ]
    },
    {
      "cell_type": "code",
      "source": [
        "nums[2:]"
      ],
      "metadata": {
        "colab": {
          "base_uri": "https://localhost:8080/"
        },
        "id": "qgeatJ8WCjv9",
        "outputId": "b164dd40-f36b-4dfc-cc5d-506f433f7366"
      },
      "execution_count": null,
      "outputs": [
        {
          "output_type": "execute_result",
          "data": {
            "text/plain": [
              "[36, 95, 13]"
            ]
          },
          "metadata": {},
          "execution_count": 10
        }
      ]
    },
    {
      "cell_type": "code",
      "source": [
        "nums[-1]"
      ],
      "metadata": {
        "colab": {
          "base_uri": "https://localhost:8080/"
        },
        "id": "vN1lqmuDCoVo",
        "outputId": "de7ae842-5f4d-4961-f355-e237a7c6aefc"
      },
      "execution_count": null,
      "outputs": [
        {
          "output_type": "execute_result",
          "data": {
            "text/plain": [
              "13"
            ]
          },
          "metadata": {},
          "execution_count": 11
        }
      ]
    },
    {
      "cell_type": "code",
      "source": [
        "nums[-5]"
      ],
      "metadata": {
        "colab": {
          "base_uri": "https://localhost:8080/"
        },
        "id": "kdwEuon3CqZz",
        "outputId": "5b177420-c19f-46b3-ef6f-1a3b0972348a"
      },
      "execution_count": null,
      "outputs": [
        {
          "output_type": "execute_result",
          "data": {
            "text/plain": [
              "25"
            ]
          },
          "metadata": {},
          "execution_count": 12
        }
      ]
    },
    {
      "cell_type": "code",
      "source": [
        "names =[\"Pranav\",\"Mishra\",\"Ajay\"]\n",
        "names"
      ],
      "metadata": {
        "colab": {
          "base_uri": "https://localhost:8080/"
        },
        "id": "zAJw0TkiCs_R",
        "outputId": "7253b021-ee90-4139-aa2d-dd062d68af86"
      },
      "execution_count": null,
      "outputs": [
        {
          "output_type": "execute_result",
          "data": {
            "text/plain": [
              "['Pranav', 'Mishra', 'Ajay']"
            ]
          },
          "metadata": {},
          "execution_count": 13
        }
      ]
    },
    {
      "cell_type": "code",
      "source": [
        "values = [9.5,\"Navin\",24]\n",
        "values"
      ],
      "metadata": {
        "colab": {
          "base_uri": "https://localhost:8080/"
        },
        "id": "JLnzF_KFC0Lj",
        "outputId": "ab5ba28c-b953-48e8-85a4-ebed2d0ba015"
      },
      "execution_count": null,
      "outputs": [
        {
          "output_type": "execute_result",
          "data": {
            "text/plain": [
              "[9.5, 'Navin', 24]"
            ]
          },
          "metadata": {},
          "execution_count": 14
        }
      ]
    },
    {
      "cell_type": "code",
      "source": [
        "mil = [nums,names]\n",
        "mil"
      ],
      "metadata": {
        "colab": {
          "base_uri": "https://localhost:8080/"
        },
        "id": "sV7v18z8C-HP",
        "outputId": "068ab1cb-728b-40bd-c7aa-9de1645165c7"
      },
      "execution_count": null,
      "outputs": [
        {
          "output_type": "execute_result",
          "data": {
            "text/plain": [
              "[[25, 12, 36, 95, 13], ['Pranav', 'Mishra', 'Ajay']]"
            ]
          },
          "metadata": {},
          "execution_count": 17
        }
      ]
    },
    {
      "cell_type": "code",
      "source": [
        "nums.append(34)\n",
        "nums"
      ],
      "metadata": {
        "colab": {
          "base_uri": "https://localhost:8080/"
        },
        "id": "g4FFIU11DKEt",
        "outputId": "42b02833-92d0-44ea-d236-5a42cbc9e37d"
      },
      "execution_count": null,
      "outputs": [
        {
          "output_type": "execute_result",
          "data": {
            "text/plain": [
              "[25, 12, 36, 95, 13, 34]"
            ]
          },
          "metadata": {},
          "execution_count": 18
        }
      ]
    },
    {
      "cell_type": "code",
      "source": [
        "nums.insert(2,21)\n",
        "nums"
      ],
      "metadata": {
        "colab": {
          "base_uri": "https://localhost:8080/"
        },
        "id": "eMdXNwobDR-7",
        "outputId": "fb056aa4-5db0-4706-bef5-9eff677b2cd0"
      },
      "execution_count": null,
      "outputs": [
        {
          "output_type": "execute_result",
          "data": {
            "text/plain": [
              "[25, 12, 21, 36, 95, 13, 34]"
            ]
          },
          "metadata": {},
          "execution_count": 19
        }
      ]
    },
    {
      "cell_type": "code",
      "source": [
        "nums.remove(13)\n",
        "nums"
      ],
      "metadata": {
        "colab": {
          "base_uri": "https://localhost:8080/"
        },
        "id": "vfj0YCgLDYlb",
        "outputId": "0a7728d6-4812-47a5-f916-bda590d5fd50"
      },
      "execution_count": null,
      "outputs": [
        {
          "output_type": "execute_result",
          "data": {
            "text/plain": [
              "[25, 12, 21, 36, 95, 34]"
            ]
          },
          "metadata": {},
          "execution_count": 20
        }
      ]
    },
    {
      "cell_type": "code",
      "source": [
        "nums.pop(1)\n",
        "nums"
      ],
      "metadata": {
        "colab": {
          "base_uri": "https://localhost:8080/"
        },
        "id": "tK5nG_zeDcIU",
        "outputId": "26f1e223-85cc-4d80-880a-9c4bd8e24156"
      },
      "execution_count": null,
      "outputs": [
        {
          "output_type": "execute_result",
          "data": {
            "text/plain": [
              "[25, 36, 95, 34]"
            ]
          },
          "metadata": {},
          "execution_count": 22
        }
      ]
    },
    {
      "cell_type": "code",
      "source": [
        "nums.pop()"
      ],
      "metadata": {
        "colab": {
          "base_uri": "https://localhost:8080/"
        },
        "id": "dIH2fhUgDgXi",
        "outputId": "790a3bdf-e606-4d8d-f6f8-0dd4c56fe164"
      },
      "execution_count": null,
      "outputs": [
        {
          "output_type": "execute_result",
          "data": {
            "text/plain": [
              "34"
            ]
          },
          "metadata": {},
          "execution_count": 23
        }
      ]
    },
    {
      "cell_type": "code",
      "source": [
        "del nums[2:]\n",
        "nums"
      ],
      "metadata": {
        "colab": {
          "base_uri": "https://localhost:8080/"
        },
        "id": "ZyooTdZ0DoVI",
        "outputId": "ab0e71ca-c321-429d-cec8-e8d128b2b83a"
      },
      "execution_count": null,
      "outputs": [
        {
          "output_type": "execute_result",
          "data": {
            "text/plain": [
              "[25, 36]"
            ]
          },
          "metadata": {},
          "execution_count": 26
        }
      ]
    },
    {
      "cell_type": "code",
      "source": [
        "nums.extend([22,32,56,76])\n",
        "nums"
      ],
      "metadata": {
        "colab": {
          "base_uri": "https://localhost:8080/"
        },
        "id": "Naz0P_QGDs0d",
        "outputId": "e0311624-5a8d-4cab-9fa2-7465044b6e23"
      },
      "execution_count": null,
      "outputs": [
        {
          "output_type": "execute_result",
          "data": {
            "text/plain": [
              "[25, 36, 22, 32, 56, 76]"
            ]
          },
          "metadata": {},
          "execution_count": 27
        }
      ]
    },
    {
      "cell_type": "code",
      "source": [
        "min(nums)"
      ],
      "metadata": {
        "colab": {
          "base_uri": "https://localhost:8080/"
        },
        "id": "P0uJ05VWDtyO",
        "outputId": "70d4196c-4b39-4c6f-f67f-588f0fc4f5fa"
      },
      "execution_count": null,
      "outputs": [
        {
          "output_type": "execute_result",
          "data": {
            "text/plain": [
              "22"
            ]
          },
          "metadata": {},
          "execution_count": 30
        }
      ]
    },
    {
      "cell_type": "code",
      "source": [
        "max(nums)"
      ],
      "metadata": {
        "colab": {
          "base_uri": "https://localhost:8080/"
        },
        "id": "fRy799HoEX6r",
        "outputId": "94874fda-f64f-4e98-a7ce-95731144b819"
      },
      "execution_count": null,
      "outputs": [
        {
          "output_type": "execute_result",
          "data": {
            "text/plain": [
              "76"
            ]
          },
          "metadata": {},
          "execution_count": 31
        }
      ]
    },
    {
      "cell_type": "code",
      "source": [
        "sum(nums)"
      ],
      "metadata": {
        "colab": {
          "base_uri": "https://localhost:8080/"
        },
        "id": "CpVMq3x-Ee4E",
        "outputId": "b55f0a5b-5a24-4978-9900-ce4c134191a7"
      },
      "execution_count": null,
      "outputs": [
        {
          "output_type": "execute_result",
          "data": {
            "text/plain": [
              "247"
            ]
          },
          "metadata": {},
          "execution_count": 32
        }
      ]
    },
    {
      "cell_type": "code",
      "source": [
        "nums.sort()\n",
        "nums"
      ],
      "metadata": {
        "colab": {
          "base_uri": "https://localhost:8080/"
        },
        "id": "k5zapnErEhIh",
        "outputId": "f4fcf8ad-2be8-4fe4-8380-1d80c90c102f"
      },
      "execution_count": null,
      "outputs": [
        {
          "output_type": "execute_result",
          "data": {
            "text/plain": [
              "[22, 25, 32, 36, 56, 76]"
            ]
          },
          "metadata": {},
          "execution_count": 36
        }
      ]
    },
    {
      "cell_type": "code",
      "source": [
        "#Tuple and Sets\n",
        "tup = (21,34,26,27)\n",
        "tup"
      ],
      "metadata": {
        "colab": {
          "base_uri": "https://localhost:8080/"
        },
        "id": "CCPN8FTZEigO",
        "outputId": "5635967b-7169-4e3b-94a5-c468cbea16c0"
      },
      "execution_count": null,
      "outputs": [
        {
          "output_type": "execute_result",
          "data": {
            "text/plain": [
              "(21, 34, 26, 27)"
            ]
          },
          "metadata": {},
          "execution_count": 37
        }
      ]
    },
    {
      "cell_type": "code",
      "source": [
        "print(tup[1])"
      ],
      "metadata": {
        "colab": {
          "base_uri": "https://localhost:8080/"
        },
        "id": "J8BLTWm7FFHx",
        "outputId": "4e43b859-72c9-48ab-8691-0db771ecc53f"
      },
      "execution_count": null,
      "outputs": [
        {
          "output_type": "stream",
          "name": "stdout",
          "text": [
            "34\n"
          ]
        }
      ]
    },
    {
      "cell_type": "code",
      "source": [
        "#Set\n",
        "s = {22,25,14,2,43,56,22}\n",
        "s"
      ],
      "metadata": {
        "colab": {
          "base_uri": "https://localhost:8080/"
        },
        "id": "eoldjZE2F3NL",
        "outputId": "8256a3d4-865e-44c5-cf7b-fcb0f08480fe"
      },
      "execution_count": null,
      "outputs": [
        {
          "output_type": "execute_result",
          "data": {
            "text/plain": [
              "{2, 14, 22, 25, 43, 56}"
            ]
          },
          "metadata": {},
          "execution_count": 48
        }
      ]
    },
    {
      "cell_type": "code",
      "source": [
        "# Dictionary in Python\n",
        "data = {1:'Pranav',2:'Anu',3:'Alok'}\n",
        "data"
      ],
      "metadata": {
        "id": "xUnbYQVVGPJA",
        "colab": {
          "base_uri": "https://localhost:8080/"
        },
        "outputId": "122c4cb6-925f-4bc7-8514-7baa22641b09"
      },
      "execution_count": null,
      "outputs": [
        {
          "output_type": "execute_result",
          "data": {
            "text/plain": [
              "{1: 'Pranav', 2: 'Anu', 3: 'Alok'}"
            ]
          },
          "metadata": {},
          "execution_count": 1
        }
      ]
    },
    {
      "cell_type": "code",
      "source": [
        "data[3]"
      ],
      "metadata": {
        "colab": {
          "base_uri": "https://localhost:8080/",
          "height": 35
        },
        "id": "FdbiaElJ_ZZR",
        "outputId": "ef5ffb4c-287e-4322-d639-af3080998fa8"
      },
      "execution_count": null,
      "outputs": [
        {
          "output_type": "execute_result",
          "data": {
            "text/plain": [
              "'Alok'"
            ],
            "application/vnd.google.colaboratory.intrinsic+json": {
              "type": "string"
            }
          },
          "metadata": {},
          "execution_count": 2
        }
      ]
    },
    {
      "cell_type": "code",
      "source": [
        "data[1]"
      ],
      "metadata": {
        "colab": {
          "base_uri": "https://localhost:8080/",
          "height": 35
        },
        "id": "_Y280LxP_ttu",
        "outputId": "bbffc1ac-150b-4232-a32d-df1b9a1330ac"
      },
      "execution_count": null,
      "outputs": [
        {
          "output_type": "execute_result",
          "data": {
            "text/plain": [
              "'Pranav'"
            ],
            "application/vnd.google.colaboratory.intrinsic+json": {
              "type": "string"
            }
          },
          "metadata": {},
          "execution_count": 3
        }
      ]
    },
    {
      "cell_type": "code",
      "source": [
        "data.get(2)"
      ],
      "metadata": {
        "colab": {
          "base_uri": "https://localhost:8080/",
          "height": 35
        },
        "id": "Sjb9wnjo_wmX",
        "outputId": "94cc6137-46a0-4594-d3c4-55b89d17b37d"
      },
      "execution_count": null,
      "outputs": [
        {
          "output_type": "execute_result",
          "data": {
            "text/plain": [
              "'Anu'"
            ],
            "application/vnd.google.colaboratory.intrinsic+json": {
              "type": "string"
            }
          },
          "metadata": {},
          "execution_count": 4
        }
      ]
    },
    {
      "cell_type": "code",
      "source": [
        "data.get(1,'Not Found')"
      ],
      "metadata": {
        "colab": {
          "base_uri": "https://localhost:8080/",
          "height": 35
        },
        "id": "T7ytE2wQ_2se",
        "outputId": "65da51d8-996c-4775-d3bd-ad0cf96a6396"
      },
      "execution_count": null,
      "outputs": [
        {
          "output_type": "execute_result",
          "data": {
            "text/plain": [
              "'Pranav'"
            ],
            "application/vnd.google.colaboratory.intrinsic+json": {
              "type": "string"
            }
          },
          "metadata": {},
          "execution_count": 5
        }
      ]
    },
    {
      "cell_type": "code",
      "source": [
        "data.get(4,'Not Found')"
      ],
      "metadata": {
        "colab": {
          "base_uri": "https://localhost:8080/",
          "height": 35
        },
        "id": "Vyy2J0GFARFB",
        "outputId": "edf0191d-f936-4e05-e360-3bd65c5205f6"
      },
      "execution_count": null,
      "outputs": [
        {
          "output_type": "execute_result",
          "data": {
            "text/plain": [
              "'Not Found'"
            ],
            "application/vnd.google.colaboratory.intrinsic+json": {
              "type": "string"
            }
          },
          "metadata": {},
          "execution_count": 6
        }
      ]
    },
    {
      "cell_type": "code",
      "source": [
        "keys = ['Pranav','Aniket','Amit']\n",
        "values = ['Python','Cloud','Data']\n",
        "data = dict(zip(keys,values))\n",
        "data"
      ],
      "metadata": {
        "colab": {
          "base_uri": "https://localhost:8080/"
        },
        "id": "nIeS0InmAYH5",
        "outputId": "161dc1fe-d62c-45b5-cb63-fa27ec064565"
      },
      "execution_count": null,
      "outputs": [
        {
          "output_type": "execute_result",
          "data": {
            "text/plain": [
              "{'Pranav': 'Python', 'Aniket': 'Cloud', 'Amit': 'Data'}"
            ]
          },
          "metadata": {},
          "execution_count": 7
        }
      ]
    },
    {
      "cell_type": "code",
      "source": [
        "data['Kajal'] = 'Web'\n",
        "data"
      ],
      "metadata": {
        "colab": {
          "base_uri": "https://localhost:8080/"
        },
        "id": "33RY5YPVBQ_K",
        "outputId": "f91432be-5724-4fab-b756-ac02d0ce2432"
      },
      "execution_count": null,
      "outputs": [
        {
          "output_type": "execute_result",
          "data": {
            "text/plain": [
              "{'Pranav': 'Python', 'Aniket': 'Cloud', 'Amit': 'Data', 'Kajal': 'Web'}"
            ]
          },
          "metadata": {},
          "execution_count": 8
        }
      ]
    },
    {
      "cell_type": "code",
      "source": [
        "del data['Amit']\n",
        "data"
      ],
      "metadata": {
        "colab": {
          "base_uri": "https://localhost:8080/"
        },
        "id": "lwMMH062BkU5",
        "outputId": "2beb7996-8d5e-468b-ae8f-b76bcd641a06"
      },
      "execution_count": null,
      "outputs": [
        {
          "output_type": "execute_result",
          "data": {
            "text/plain": [
              "{'Pranav': 'Python', 'Aniket': 'Cloud', 'Kajal': 'Web'}"
            ]
          },
          "metadata": {},
          "execution_count": 9
        }
      ]
    },
    {
      "cell_type": "code",
      "source": [
        "#Variable in Python\n",
        "num = 5\n",
        "print(id(num))"
      ],
      "metadata": {
        "colab": {
          "base_uri": "https://localhost:8080/"
        },
        "id": "LHJJ-RPTDISn",
        "outputId": "0ae577fa-3af9-4bd5-cdee-c788cb31a440"
      },
      "execution_count": null,
      "outputs": [
        {
          "output_type": "stream",
          "name": "stdout",
          "text": [
            "133238619357552\n"
          ]
        }
      ]
    },
    {
      "cell_type": "code",
      "source": [
        "name = 'Name'\n",
        "print(id(name))"
      ],
      "metadata": {
        "colab": {
          "base_uri": "https://localhost:8080/"
        },
        "id": "oZJwmaxJEZZj",
        "outputId": "f62ca8d2-fb63-4e8f-b2fc-0dc775b9bf0e"
      },
      "execution_count": null,
      "outputs": [
        {
          "output_type": "stream",
          "name": "stdout",
          "text": [
            "133238615958192\n"
          ]
        }
      ]
    },
    {
      "cell_type": "code",
      "source": [
        "a = 10\n",
        "b = 10\n",
        "print(id(a))\n",
        "print(id(b))\n",
        "print(id(10))\n",
        "\n",
        "k = 10\n",
        "print(id(k))\n",
        "a = 9\n",
        "print(id(a))"
      ],
      "metadata": {
        "colab": {
          "base_uri": "https://localhost:8080/"
        },
        "id": "DUlFCfQQEmX8",
        "outputId": "deb17271-9f62-4c3a-fccf-9eaceb412bb7"
      },
      "execution_count": null,
      "outputs": [
        {
          "output_type": "stream",
          "name": "stdout",
          "text": [
            "133238619357712\n",
            "133238619357712\n",
            "133238619357712\n",
            "133238619357712\n",
            "133238619357680\n"
          ]
        }
      ]
    },
    {
      "cell_type": "code",
      "source": [
        "PI = 3.14\n",
        "r = 5\n",
        "c = PI * r * r\n",
        "print(c)"
      ],
      "metadata": {
        "colab": {
          "base_uri": "https://localhost:8080/"
        },
        "id": "i3kjttjGE6Q5",
        "outputId": "d08b9e0b-9e3f-4a8c-9158-bec93afcf968"
      },
      "execution_count": null,
      "outputs": [
        {
          "output_type": "stream",
          "name": "stdout",
          "text": [
            "78.5\n"
          ]
        }
      ]
    },
    {
      "cell_type": "code",
      "source": [
        "type(a)"
      ],
      "metadata": {
        "colab": {
          "base_uri": "https://localhost:8080/"
        },
        "id": "inc2dzJxGJys",
        "outputId": "17483585-61b7-439c-89c1-b9608dac6e23"
      },
      "execution_count": null,
      "outputs": [
        {
          "output_type": "execute_result",
          "data": {
            "text/plain": [
              "int"
            ]
          },
          "metadata": {},
          "execution_count": 20
        }
      ]
    },
    {
      "cell_type": "code",
      "source": [
        "type(PI)"
      ],
      "metadata": {
        "colab": {
          "base_uri": "https://localhost:8080/"
        },
        "id": "--OfhZC-GRMJ",
        "outputId": "be421361-084c-408c-b43c-3876e9335e1b"
      },
      "execution_count": null,
      "outputs": [
        {
          "output_type": "execute_result",
          "data": {
            "text/plain": [
              "float"
            ]
          },
          "metadata": {},
          "execution_count": 21
        }
      ]
    },
    {
      "cell_type": "code",
      "source": [
        "#Data Types in Python\n",
        "num = 2.5\n",
        "type(num)"
      ],
      "metadata": {
        "colab": {
          "base_uri": "https://localhost:8080/"
        },
        "id": "83YDZo86GWoM",
        "outputId": "cf170e3a-33c5-4b09-ed76-5816271b7e57"
      },
      "execution_count": null,
      "outputs": [
        {
          "output_type": "execute_result",
          "data": {
            "text/plain": [
              "float"
            ]
          },
          "metadata": {},
          "execution_count": 22
        }
      ]
    },
    {
      "cell_type": "code",
      "source": [
        "num = 4\n",
        "type(num)"
      ],
      "metadata": {
        "colab": {
          "base_uri": "https://localhost:8080/"
        },
        "id": "GCTumahgG9Rv",
        "outputId": "9cacd883-c9b6-42f1-8abd-e65a13ce9736"
      },
      "execution_count": null,
      "outputs": [
        {
          "output_type": "execute_result",
          "data": {
            "text/plain": [
              "int"
            ]
          },
          "metadata": {},
          "execution_count": 23
        }
      ]
    },
    {
      "cell_type": "code",
      "source": [
        "for i in range(1,10):\n",
        "  if i % 2 == 0:\n",
        "    print(\"Even:\",i)"
      ],
      "metadata": {
        "colab": {
          "base_uri": "https://localhost:8080/"
        },
        "id": "KyPl8gxRHp6T",
        "outputId": "ac35bc5b-eb5e-4017-cea8-0f723a38f9cb"
      },
      "execution_count": null,
      "outputs": [
        {
          "output_type": "stream",
          "name": "stdout",
          "text": [
            "Even: 2\n",
            "Even: 4\n",
            "Even: 6\n",
            "Even: 8\n"
          ]
        }
      ]
    },
    {
      "cell_type": "code",
      "source": [
        "ss = [1,25,3,4,5,66,25,24,5,66]\n",
        "print(set(ss))"
      ],
      "metadata": {
        "colab": {
          "base_uri": "https://localhost:8080/"
        },
        "id": "_1Q3tdkUICqy",
        "outputId": "b6dc7306-13ff-4c34-d411-702fb128497a"
      },
      "execution_count": null,
      "outputs": [
        {
          "output_type": "stream",
          "name": "stdout",
          "text": [
            "{1, 66, 3, 4, 5, 24, 25}\n"
          ]
        }
      ]
    },
    {
      "cell_type": "code",
      "source": [
        "d = {'Pranav':'MI','Aniket':'Samsung','Amit':'OnePlus','Harsh':'Infix'}\n",
        "print(d)"
      ],
      "metadata": {
        "colab": {
          "base_uri": "https://localhost:8080/"
        },
        "id": "zhqQeTquKKd1",
        "outputId": "3e1a9070-2c8a-4975-836f-175412e9161a"
      },
      "execution_count": null,
      "outputs": [
        {
          "output_type": "stream",
          "name": "stdout",
          "text": [
            "{'Pranav': 'MI', 'Aniket': 'Samsung', 'Amit': 'OnePlus', 'Harsh': 'Infix'}\n"
          ]
        }
      ]
    },
    {
      "cell_type": "code",
      "source": [
        "d.keys()"
      ],
      "metadata": {
        "colab": {
          "base_uri": "https://localhost:8080/"
        },
        "id": "T5Kt7x-FKljV",
        "outputId": "b84909c0-4353-4a71-8686-a5a5398e0f00"
      },
      "execution_count": null,
      "outputs": [
        {
          "output_type": "execute_result",
          "data": {
            "text/plain": [
              "dict_keys(['Pranav', 'Aniket', 'Amit', 'Harsh'])"
            ]
          },
          "metadata": {},
          "execution_count": 40
        }
      ]
    },
    {
      "cell_type": "code",
      "source": [
        "d.values()"
      ],
      "metadata": {
        "colab": {
          "base_uri": "https://localhost:8080/"
        },
        "id": "HnlTpfo9Kn9X",
        "outputId": "37b6dedd-620c-4af9-ee1b-526d8d1f5766"
      },
      "execution_count": null,
      "outputs": [
        {
          "output_type": "execute_result",
          "data": {
            "text/plain": [
              "dict_values(['MI', 'Samsung', 'OnePlus', 'Infix'])"
            ]
          },
          "metadata": {},
          "execution_count": 41
        }
      ]
    },
    {
      "cell_type": "code",
      "source": [
        "d.get('Amit')"
      ],
      "metadata": {
        "colab": {
          "base_uri": "https://localhost:8080/",
          "height": 35
        },
        "id": "3dyA7Hi6KpY5",
        "outputId": "5ea71564-5c1a-431e-8c97-e81bcdf4d170"
      },
      "execution_count": null,
      "outputs": [
        {
          "output_type": "execute_result",
          "data": {
            "text/plain": [
              "'OnePlus'"
            ],
            "application/vnd.google.colaboratory.intrinsic+json": {
              "type": "string"
            }
          },
          "metadata": {},
          "execution_count": 42
        }
      ]
    },
    {
      "cell_type": "code",
      "source": [
        "# Math Functon\n",
        "import math\n",
        "x = math.sqrt(25)\n",
        "print(x)"
      ],
      "metadata": {
        "id": "2WuT0dZ5K2GQ",
        "colab": {
          "base_uri": "https://localhost:8080/"
        },
        "outputId": "3a874c68-032d-424a-8c92-c555cdb225b4"
      },
      "execution_count": null,
      "outputs": [
        {
          "output_type": "stream",
          "name": "stdout",
          "text": [
            "5.0\n"
          ]
        }
      ]
    },
    {
      "cell_type": "code",
      "source": [
        "print(math.floor(2.9))\n",
        "print(math.ceil(2.2))"
      ],
      "metadata": {
        "colab": {
          "base_uri": "https://localhost:8080/"
        },
        "id": "zJLskVVjG118",
        "outputId": "baf0189f-dead-471b-80b7-30ff825123cb"
      },
      "execution_count": null,
      "outputs": [
        {
          "output_type": "stream",
          "name": "stdout",
          "text": [
            "2\n",
            "3\n"
          ]
        }
      ]
    },
    {
      "cell_type": "code",
      "source": [
        "3 ** 2"
      ],
      "metadata": {
        "colab": {
          "base_uri": "https://localhost:8080/"
        },
        "id": "B3HqinkMHdKG",
        "outputId": "70ef6ae5-adba-42ec-cf79-5f89844bbae7"
      },
      "execution_count": null,
      "outputs": [
        {
          "output_type": "execute_result",
          "data": {
            "text/plain": [
              "9"
            ]
          },
          "metadata": {},
          "execution_count": 7
        }
      ]
    },
    {
      "cell_type": "code",
      "source": [
        "print(math.pow(3,2))\n",
        "print(math.pi)\n",
        "print(math.e)"
      ],
      "metadata": {
        "colab": {
          "base_uri": "https://localhost:8080/"
        },
        "id": "6CsDMtDjHn4b",
        "outputId": "9a9dfba5-0f01-459c-b57d-4566fdd482a7"
      },
      "execution_count": null,
      "outputs": [
        {
          "output_type": "stream",
          "name": "stdout",
          "text": [
            "9.0\n",
            "3.141592653589793\n",
            "2.718281828459045\n"
          ]
        }
      ]
    },
    {
      "cell_type": "code",
      "source": [
        "# Swap two number\n",
        "num1 = 34\n",
        "num2 = 24\n",
        "\n",
        "temp = num1\n",
        "num1 = num2\n",
        "num2 = temp\n",
        "print(num1)\n",
        "print(num2)\n",
        "\n",
        "num1 = num1 + num2\n",
        "num2 = num1 - num2\n",
        "num1 = num1 - num2\n",
        "print(num1)\n",
        "print(num2)"
      ],
      "metadata": {
        "colab": {
          "base_uri": "https://localhost:8080/"
        },
        "id": "bGPVXUF6HsgB",
        "outputId": "66427449-1966-4325-8ac6-aa51978f1bff"
      },
      "execution_count": null,
      "outputs": [
        {
          "output_type": "stream",
          "name": "stdout",
          "text": [
            "24\n",
            "34\n",
            "34\n",
            "24\n"
          ]
        }
      ]
    },
    {
      "cell_type": "code",
      "source": [
        "#User input in Python\n",
        "num1 = int(input(\"Enter 1st number: \"))\n",
        "num2 = int(input(\"Enter 2nd number: \"))\n",
        "\n",
        "num3 = num1 * num2\n",
        "print(f\"The multiply of {num1} and {num2} is: \",num3)"
      ],
      "metadata": {
        "colab": {
          "base_uri": "https://localhost:8080/"
        },
        "id": "2RFfAg7nJsax",
        "outputId": "7a0d111f-900c-4242-b7d0-9892771ac318"
      },
      "execution_count": null,
      "outputs": [
        {
          "output_type": "stream",
          "name": "stdout",
          "text": [
            "Enter 1st number: 20\n",
            "Enter 2nd number: 2\n",
            "The multiply of 20 and 2 is:  40\n"
          ]
        }
      ]
    },
    {
      "cell_type": "code",
      "source": [
        "#Eval functon in input\n",
        "result = eval(input(\"Enter the expression: \"))\n",
        "print(result)"
      ],
      "metadata": {
        "colab": {
          "base_uri": "https://localhost:8080/"
        },
        "id": "FVFiY3BsLUKu",
        "outputId": "40baa730-bda1-43f8-a2e1-beee5f832c34"
      },
      "execution_count": null,
      "outputs": [
        {
          "output_type": "stream",
          "name": "stdout",
          "text": [
            "Enter the expression: 2 + 5 -1\n",
            "6\n"
          ]
        }
      ]
    },
    {
      "cell_type": "code",
      "source": [
        "#While loop Statement\n",
        "i =1\n",
        "while i <= 5:\n",
        "  print(\"Om\")\n",
        "  i += 1"
      ],
      "metadata": {
        "colab": {
          "base_uri": "https://localhost:8080/"
        },
        "id": "mg-RBtyfMohr",
        "outputId": "c927f7e2-e60e-4a96-8bc4-66e976f30346"
      },
      "execution_count": null,
      "outputs": [
        {
          "output_type": "stream",
          "name": "stdout",
          "text": [
            "Om\n",
            "Om\n",
            "Om\n",
            "Om\n",
            "Om\n"
          ]
        }
      ]
    },
    {
      "cell_type": "code",
      "source": [
        "# For loop\n",
        "lst = [1,3.5,7,9,\"Pranav\"]\n",
        "for i in lst:\n",
        "  print(i)"
      ],
      "metadata": {
        "colab": {
          "base_uri": "https://localhost:8080/"
        },
        "id": "9MjwQHeQRqMM",
        "outputId": "dc4164f5-479b-4f82-8a17-d1f060c32da7"
      },
      "execution_count": null,
      "outputs": [
        {
          "output_type": "stream",
          "name": "stdout",
          "text": [
            "1\n",
            "3.5\n",
            "7\n",
            "9\n",
            "Pranav\n"
          ]
        }
      ]
    },
    {
      "cell_type": "code",
      "source": [
        "# Break,Continue and Pass\n",
        "av = 5\n",
        "candy_input = int(input(\"How many candies you want?: \"))\n",
        "i = 1\n",
        "while i <= candy_input:\n",
        "  if i>av:\n",
        "    print(\"Out of Stock\")\n",
        "    break\n",
        "  print(\"Candy\")\n",
        "  i += 1\n",
        "\n",
        "print(\"Bye\")"
      ],
      "metadata": {
        "colab": {
          "base_uri": "https://localhost:8080/"
        },
        "id": "IuxaAlKcguZp",
        "outputId": "bc12569e-d94d-4783-b465-1b4c93cbc546"
      },
      "execution_count": null,
      "outputs": [
        {
          "output_type": "stream",
          "name": "stdout",
          "text": [
            "How many candies you want?: 7\n",
            "Candy\n",
            "Candy\n",
            "Candy\n",
            "Candy\n",
            "Candy\n",
            "Out of Stock\n",
            "Bye\n"
          ]
        }
      ]
    },
    {
      "cell_type": "code",
      "source": [
        "for i in range(1,101):\n",
        "  if i%3 == 0 and i%5==0:\n",
        "    continue\n",
        "  print(i)\n",
        "print(\"Bye\")"
      ],
      "metadata": {
        "colab": {
          "base_uri": "https://localhost:8080/"
        },
        "id": "d438rojRh9w3",
        "outputId": "15cbf77b-c078-4473-fc3c-173a6f17e630"
      },
      "execution_count": null,
      "outputs": [
        {
          "output_type": "stream",
          "name": "stdout",
          "text": [
            "1\n",
            "2\n",
            "3\n",
            "4\n",
            "5\n",
            "6\n",
            "7\n",
            "8\n",
            "9\n",
            "10\n",
            "11\n",
            "12\n",
            "13\n",
            "14\n",
            "16\n",
            "17\n",
            "18\n",
            "19\n",
            "20\n",
            "21\n",
            "22\n",
            "23\n",
            "24\n",
            "25\n",
            "26\n",
            "27\n",
            "28\n",
            "29\n",
            "31\n",
            "32\n",
            "33\n",
            "34\n",
            "35\n",
            "36\n",
            "37\n",
            "38\n",
            "39\n",
            "40\n",
            "41\n",
            "42\n",
            "43\n",
            "44\n",
            "46\n",
            "47\n",
            "48\n",
            "49\n",
            "50\n",
            "51\n",
            "52\n",
            "53\n",
            "54\n",
            "55\n",
            "56\n",
            "57\n",
            "58\n",
            "59\n",
            "61\n",
            "62\n",
            "63\n",
            "64\n",
            "65\n",
            "66\n",
            "67\n",
            "68\n",
            "69\n",
            "70\n",
            "71\n",
            "72\n",
            "73\n",
            "74\n",
            "76\n",
            "77\n",
            "78\n",
            "79\n",
            "80\n",
            "81\n",
            "82\n",
            "83\n",
            "84\n",
            "85\n",
            "86\n",
            "87\n",
            "88\n",
            "89\n",
            "91\n",
            "92\n",
            "93\n",
            "94\n",
            "95\n",
            "96\n",
            "97\n",
            "98\n",
            "99\n",
            "100\n",
            "Bye\n"
          ]
        }
      ]
    },
    {
      "cell_type": "code",
      "source": [
        "# Break,Continue and Pass\n",
        "for i in range(15):\n",
        "  if i == 5:\n",
        "    break\n",
        "  print(\"Hello\",i)"
      ],
      "metadata": {
        "id": "DdDc9ivEVBRz",
        "colab": {
          "base_uri": "https://localhost:8080/"
        },
        "outputId": "3fe55992-43e3-473a-90d0-4851a887f552"
      },
      "execution_count": null,
      "outputs": [
        {
          "output_type": "stream",
          "name": "stdout",
          "text": [
            "Hello 0\n",
            "Hello 1\n",
            "Hello 2\n",
            "Hello 3\n",
            "Hello 4\n"
          ]
        }
      ]
    },
    {
      "cell_type": "code",
      "source": [
        "for i in range(15):\n",
        "  if i == 5:\n",
        "    continue\n",
        "  print(\"Hello\",i)"
      ],
      "metadata": {
        "colab": {
          "base_uri": "https://localhost:8080/"
        },
        "id": "6dlplwt7fmmd",
        "outputId": "6614c288-e3bb-4a2d-9827-ee1bb78d6f99"
      },
      "execution_count": null,
      "outputs": [
        {
          "output_type": "stream",
          "name": "stdout",
          "text": [
            "Hello 0\n",
            "Hello 1\n",
            "Hello 2\n",
            "Hello 3\n",
            "Hello 4\n",
            "Hello 6\n",
            "Hello 7\n",
            "Hello 8\n",
            "Hello 9\n",
            "Hello 10\n",
            "Hello 11\n",
            "Hello 12\n",
            "Hello 13\n",
            "Hello 14\n"
          ]
        }
      ]
    },
    {
      "cell_type": "code",
      "source": [
        "#Pass\n",
        "def fun():\n",
        "  pass"
      ],
      "metadata": {
        "id": "zxC5UqEkexFu"
      },
      "execution_count": null,
      "outputs": []
    },
    {
      "cell_type": "code",
      "source": [
        "# Patterns\n",
        "def pattern(n):\n",
        "  for i in range(n):\n",
        "    for j in range(n):\n",
        "      print(\"*\",end=\"\")\n",
        "    print()\n",
        "\n",
        "pattern(5)"
      ],
      "metadata": {
        "colab": {
          "base_uri": "https://localhost:8080/"
        },
        "id": "S9j2lMQWfuif",
        "outputId": "8802c2dd-6667-447d-f1e0-51b5a4cb5f4e"
      },
      "execution_count": null,
      "outputs": [
        {
          "output_type": "stream",
          "name": "stdout",
          "text": [
            "*****\n",
            "*****\n",
            "*****\n",
            "*****\n",
            "*****\n"
          ]
        }
      ]
    },
    {
      "cell_type": "code",
      "source": [
        "def patterns(n):\n",
        "  for i in range(n):\n",
        "    for j in range(i):\n",
        "      print(\"*\",end=\"\")\n",
        "    print()\n",
        "num = int(input(\"Enter the number: \"))\n",
        "patterns(num)"
      ],
      "metadata": {
        "colab": {
          "base_uri": "https://localhost:8080/"
        },
        "id": "PIDeYKG8krY7",
        "outputId": "d8de9966-1528-45ae-8519-87415b2e1621"
      },
      "execution_count": null,
      "outputs": [
        {
          "output_type": "stream",
          "name": "stdout",
          "text": [
            "Enter the number: 5\n",
            "\n",
            "*\n",
            "**\n",
            "***\n",
            "****\n"
          ]
        }
      ]
    },
    {
      "cell_type": "code",
      "source": [
        "#For else\n",
        "nums = [11,16,23,22,13,52]\n",
        "for num in nums:\n",
        "  if num % 5 == 0:\n",
        "    print(num)\n",
        "    break\n",
        "else:\n",
        "  print(\"Not Found\")"
      ],
      "metadata": {
        "colab": {
          "base_uri": "https://localhost:8080/"
        },
        "id": "B40KC4ifmMEc",
        "outputId": "148b136f-9446-4dab-c577-e8ead5b5305a"
      },
      "execution_count": null,
      "outputs": [
        {
          "output_type": "stream",
          "name": "stdout",
          "text": [
            "Not Found\n"
          ]
        }
      ]
    },
    {
      "cell_type": "code",
      "source": [
        "# Prime number\n",
        "num = int(input(\"Enter the number: \"))\n",
        "for i in range(2,num):\n",
        "  if num % i == 0:\n",
        "    print(\"Not Prime!\")\n",
        "    break\n",
        "else:\n",
        "  print(\"It's Prime\")"
      ],
      "metadata": {
        "colab": {
          "base_uri": "https://localhost:8080/"
        },
        "id": "WwFoySsjowqm",
        "outputId": "631e4679-e241-43c1-a59e-eb71e56a0960"
      },
      "execution_count": null,
      "outputs": [
        {
          "output_type": "stream",
          "name": "stdout",
          "text": [
            "Enter the number: 12\n",
            "Not Prime!\n"
          ]
        }
      ]
    },
    {
      "cell_type": "code",
      "source": [
        "# Array in Python\n",
        "from array import *\n",
        "vals = array('i',[5,7,3,9,1])\n",
        "print(vals)"
      ],
      "metadata": {
        "id": "QkpCAS2iq4uj",
        "colab": {
          "base_uri": "https://localhost:8080/"
        },
        "outputId": "7da25c23-cb06-4e3d-9f33-b2afd6217238"
      },
      "execution_count": null,
      "outputs": [
        {
          "output_type": "stream",
          "name": "stdout",
          "text": [
            "array('i', [5, 7, 3, 9, 1])\n"
          ]
        }
      ]
    },
    {
      "cell_type": "code",
      "source": [
        "vals = array('i',[2,7,3,-9,5])\n",
        "for i in range(len(vals)):\n",
        "  print(vals[i])"
      ],
      "metadata": {
        "colab": {
          "base_uri": "https://localhost:8080/"
        },
        "id": "KJ_9MbKiUSnJ",
        "outputId": "7b27b57f-5a10-487c-934c-956842d1dd91"
      },
      "execution_count": null,
      "outputs": [
        {
          "output_type": "stream",
          "name": "stdout",
          "text": [
            "2\n",
            "7\n",
            "3\n",
            "-9\n",
            "5\n"
          ]
        }
      ]
    },
    {
      "cell_type": "code",
      "source": [
        "newArr = array(vals.typecode, (a*a for a in vals))\n",
        "for e in newArr:\n",
        "  print(e)"
      ],
      "metadata": {
        "colab": {
          "base_uri": "https://localhost:8080/"
        },
        "id": "c9HCldVWVyyE",
        "outputId": "7a763b56-ac48-465c-9f67-bef31f6c218b"
      },
      "execution_count": null,
      "outputs": [
        {
          "output_type": "stream",
          "name": "stdout",
          "text": [
            "4\n",
            "49\n",
            "9\n",
            "81\n",
            "25\n"
          ]
        }
      ]
    },
    {
      "cell_type": "code",
      "source": [
        "#Array values from the user\n",
        "arr = array('i',[])\n",
        "n = int(input(\"Enter the length of the array:\"))\n",
        "\n",
        "for i in range(n):\n",
        "  num = int(input(\"Enter the next value in the array:\"))\n",
        "  arr.append(num)\n",
        "\n",
        "print(arr)\n",
        "\n",
        "val = int(input(\"Enter the value for search:\"))\n",
        "\n",
        "k = 0\n",
        "for e in arr:\n",
        "  if e==val:\n",
        "    print(f\"The position of value {val} is\", k)\n",
        "    break\n",
        "  k += 1"
      ],
      "metadata": {
        "colab": {
          "base_uri": "https://localhost:8080/"
        },
        "id": "W6wlgDi7W2Nj",
        "outputId": "cb5f0cd2-c6d2-4bcc-f833-db6b2ab512ab"
      },
      "execution_count": null,
      "outputs": [
        {
          "output_type": "stream",
          "name": "stdout",
          "text": [
            "Enter the length of the array:5\n",
            "Enter the next value in the array:23\n",
            "Enter the next value in the array:21\n",
            "Enter the next value in the array:7\n",
            "Enter the next value in the array:43\n",
            "Enter the next value in the array:22\n",
            "array('i', [23, 21, 7, 43, 22])\n",
            "Enter the value for search:7\n",
            "The position of value 7 is 2\n"
          ]
        }
      ]
    },
    {
      "cell_type": "code",
      "source": [
        "from re import search\n",
        "arr = array('i',[])\n",
        "input_len = int(input(\"Enter the length of the array:\"))\n",
        "\n",
        "for i in range(input_len):\n",
        "  input_val = int(input((\"Enter the next value in the array:\")))\n",
        "  arr.append(input_val)\n",
        "\n",
        "print(arr)\n",
        "\n",
        "search_posi = int(input(\"Enter the value for search:\"))\n",
        "c = 0\n",
        "for e in arr:\n",
        "  if e == search_posi:\n",
        "    print(f\"The position of the value {search_posi} is:\",c)\n",
        "    break\n",
        "  c += 1\n",
        "\n",
        "print(arr.index(search_posi))"
      ],
      "metadata": {
        "colab": {
          "base_uri": "https://localhost:8080/"
        },
        "id": "3MQTgu7JZyRE",
        "outputId": "0ddc394c-44c7-45a9-914f-7dfefed2ce73"
      },
      "execution_count": null,
      "outputs": [
        {
          "output_type": "stream",
          "name": "stdout",
          "text": [
            "Enter the length of the array:5\n",
            "Enter the next value in the array:3\n",
            "Enter the next value in the array:7\n",
            "Enter the next value in the array:9\n",
            "Enter the next value in the array:2\n",
            "Enter the next value in the array:1\n",
            "array('i', [3, 7, 9, 2, 1])\n",
            "Enter the value for search:2\n",
            "The position of the value 2 is: 3\n",
            "3\n"
          ]
        }
      ]
    },
    {
      "cell_type": "code",
      "source": [
        "from numpy import *\n",
        "arr = arange(1,15,2)\n",
        "print(arr)"
      ],
      "metadata": {
        "colab": {
          "base_uri": "https://localhost:8080/"
        },
        "id": "9_HSM5hFcSNm",
        "outputId": "e642fd93-0f3b-43ff-9bce-edd4c0be1d38"
      },
      "execution_count": null,
      "outputs": [
        {
          "output_type": "stream",
          "name": "stdout",
          "text": [
            "[ 1  3  5  7  9 11 13]\n"
          ]
        }
      ]
    },
    {
      "cell_type": "code",
      "source": [
        "arr = logspace(1,40,5)\n",
        "print(arr)"
      ],
      "metadata": {
        "colab": {
          "base_uri": "https://localhost:8080/"
        },
        "id": "fo5RfDZXf6CD",
        "outputId": "77061fed-8316-4da6-d536-da1b02ef6f83"
      },
      "execution_count": null,
      "outputs": [
        {
          "output_type": "stream",
          "name": "stdout",
          "text": [
            "[1.00000000e+01 5.62341325e+10 3.16227766e+20 1.77827941e+30\n",
            " 1.00000000e+40]\n"
          ]
        }
      ]
    },
    {
      "cell_type": "code",
      "source": [
        "arr = linspace(0,15,16)\n",
        "print(arr)"
      ],
      "metadata": {
        "colab": {
          "base_uri": "https://localhost:8080/"
        },
        "id": "QmprOClQjWgX",
        "outputId": "ad28f405-169d-4cb2-80a9-162a543ef70d"
      },
      "execution_count": null,
      "outputs": [
        {
          "output_type": "stream",
          "name": "stdout",
          "text": [
            "[ 0.  1.  2.  3.  4.  5.  6.  7.  8.  9. 10. 11. 12. 13. 14. 15.]\n"
          ]
        }
      ]
    },
    {
      "cell_type": "code",
      "source": [
        "arr = ones(6)\n",
        "arr"
      ],
      "metadata": {
        "colab": {
          "base_uri": "https://localhost:8080/"
        },
        "id": "BoSRYR9ljllz",
        "outputId": "80ca3c36-bc38-4645-ff02-612880021ac4"
      },
      "execution_count": null,
      "outputs": [
        {
          "output_type": "execute_result",
          "data": {
            "text/plain": [
              "array([1., 1., 1., 1., 1., 1.])"
            ]
          },
          "metadata": {},
          "execution_count": 44
        }
      ]
    },
    {
      "cell_type": "code",
      "source": [
        "#Copying an Array\n",
        "arr = array([1,2,3,4,5])\n",
        "arr = arr + 5\n",
        "print(arr)"
      ],
      "metadata": {
        "colab": {
          "base_uri": "https://localhost:8080/"
        },
        "id": "dmsPywPMjwXK",
        "outputId": "f176c3fb-d8cd-4a0a-bd4c-946574e94fdc"
      },
      "execution_count": null,
      "outputs": [
        {
          "output_type": "stream",
          "name": "stdout",
          "text": [
            "[ 6  7  8  9 10]\n"
          ]
        }
      ]
    },
    {
      "cell_type": "code",
      "source": [
        "arr = array([1,22,3,4,51,6])\n",
        "print(sort(arr))"
      ],
      "metadata": {
        "colab": {
          "base_uri": "https://localhost:8080/"
        },
        "id": "F0hLKU8lkEUi",
        "outputId": "f3c3bd51-7890-4454-f11a-c02a2c95db6b"
      },
      "execution_count": null,
      "outputs": [
        {
          "output_type": "stream",
          "name": "stdout",
          "text": [
            "[ 1  3  4  6 22 51]\n"
          ]
        }
      ]
    },
    {
      "cell_type": "code",
      "source": [
        "arr1 = array([12,3,41,61])\n",
        "print(concatenate([arr1,arr2]))"
      ],
      "metadata": {
        "colab": {
          "base_uri": "https://localhost:8080/"
        },
        "id": "fao-5LNqkg3A",
        "outputId": "67de3845-99b4-4709-b003-9260cfec0667"
      },
      "execution_count": null,
      "outputs": [
        {
          "output_type": "stream",
          "name": "stdout",
          "text": [
            "[ 3 12 41 61  2  3  5  9]\n"
          ]
        }
      ]
    },
    {
      "cell_type": "code",
      "source": [
        "arr2 = arr1.copy()\n",
        "arr1[1] = 7\n",
        "print(arr1)\n",
        "print(arr2)\n",
        "print(id(arr1))\n",
        "print(id(arr2))"
      ],
      "metadata": {
        "colab": {
          "base_uri": "https://localhost:8080/"
        },
        "id": "K0wNLQAtlJwr",
        "outputId": "e54d018e-5cad-43be-ce9b-8e10874ee7f7"
      },
      "execution_count": null,
      "outputs": [
        {
          "output_type": "stream",
          "name": "stdout",
          "text": [
            "[12  7 41 61]\n",
            "[12  7 41 61]\n",
            "132309445602896\n",
            "132309446548176\n"
          ]
        }
      ]
    },
    {
      "cell_type": "code",
      "source": [
        "#Working with matrix\n",
        "from numpy import *\n",
        "arr1 = array([[1,2,3,4],[5,6,7,9]])\n",
        "# print(arr1.dtype)\n",
        "# print(arr1)\n",
        "# print(arr1.size)\n",
        "\n",
        "# arr2 = arr1.flatten()\n",
        "# print(arr2)\n",
        "\n",
        "# arr3 = arr2.reshape(2,2,3)\n",
        "# print(arr3)\n",
        "\n",
        "# m = matrix(arr1)\n",
        "m = matrix('1,2,3;4,5,6;7,8,3')\n",
        "print(m.max())\n",
        "\n",
        "m1 = matrix('1,2,3;4,5,6;7,8,3')\n",
        "m2 = matrix('1,12,3;14,5,16;7,8,13')\n",
        "m3 = m1 * m2\n",
        "print(m3)"
      ],
      "metadata": {
        "id": "3uMdgZRulfCq",
        "colab": {
          "base_uri": "https://localhost:8080/"
        },
        "outputId": "4c54d5f0-3629-468c-a8a0-d7ebac41bc1d"
      },
      "execution_count": null,
      "outputs": [
        {
          "output_type": "stream",
          "name": "stdout",
          "text": [
            "8\n",
            "[[ 50  46  74]\n",
            " [116 121 170]\n",
            " [140 148 188]]\n"
          ]
        }
      ]
    },
    {
      "cell_type": "code",
      "source": [
        "# # Functions\n",
        "# def greet():\n",
        "#   print(\"Hello\")\n",
        "#   print(\"Good Morning!\")\n",
        "\n",
        "# def add(num1,num2):\n",
        "#   c = num1 + num2\n",
        "#   print(c)\n",
        "# greet()\n",
        "# add(45,55)\n",
        "\n",
        "def update(c):\n",
        "  c = 7\n",
        "  print(c)\n",
        "update(34)"
      ],
      "metadata": {
        "colab": {
          "base_uri": "https://localhost:8080/"
        },
        "id": "yZ61mBK0j6k0",
        "outputId": "f4132ce9-cf59-4ff1-c373-332501757f28"
      },
      "execution_count": null,
      "outputs": [
        {
          "output_type": "stream",
          "name": "stdout",
          "text": [
            "7\n"
          ]
        }
      ]
    },
    {
      "cell_type": "code",
      "source": [
        "#Types of Functon\n",
        "#positon\n",
        "def add(a,b):\n",
        "  c = a + b\n",
        "  print(c)\n",
        "\n",
        "add(4,6)"
      ],
      "metadata": {
        "colab": {
          "base_uri": "https://localhost:8080/"
        },
        "id": "Od1fxNsKn3Ev",
        "outputId": "fea48184-3f9b-4736-9eaa-a520e4637fbc"
      },
      "execution_count": null,
      "outputs": [
        {
          "output_type": "stream",
          "name": "stdout",
          "text": [
            "10\n"
          ]
        }
      ]
    },
    {
      "cell_type": "code",
      "source": [
        "#Argument\n",
        "def person(name,age):\n",
        "  print(name)\n",
        "  print(age)\n",
        "\n",
        "person('Naman',34)"
      ],
      "metadata": {
        "colab": {
          "base_uri": "https://localhost:8080/"
        },
        "id": "TpCQSMFNuGK0",
        "outputId": "89a7046d-f4cb-4e6f-e652-c501657a2acc"
      },
      "execution_count": null,
      "outputs": [
        {
          "output_type": "stream",
          "name": "stdout",
          "text": [
            "Naman\n",
            "34\n"
          ]
        }
      ]
    },
    {
      "cell_type": "code",
      "source": [
        "def sum(*b):\n",
        "  c = 0\n",
        "  for i in b:\n",
        "    c += i\n",
        "  print(c)\n",
        "\n",
        "sum(3,34,45,56)"
      ],
      "metadata": {
        "colab": {
          "base_uri": "https://localhost:8080/"
        },
        "id": "ROjHWXTcukjc",
        "outputId": "ec6b1175-d291-4b33-9ca0-24537e0f428f"
      },
      "execution_count": null,
      "outputs": [
        {
          "output_type": "stream",
          "name": "stdout",
          "text": [
            "138\n"
          ]
        }
      ]
    },
    {
      "cell_type": "code",
      "source": [
        "# *awrgs\n",
        "def person(name,*data):\n",
        "  print(name)\n",
        "  print(data)\n",
        "\n",
        "person('Naman',23,'Mumbai',74765)"
      ],
      "metadata": {
        "colab": {
          "base_uri": "https://localhost:8080/"
        },
        "id": "0XshnQqMxt-x",
        "outputId": "ad2bad31-5a0e-48fc-b79f-1b94594fc815"
      },
      "execution_count": null,
      "outputs": [
        {
          "output_type": "stream",
          "name": "stdout",
          "text": [
            "Naman\n",
            "(23, 'Mumbai', 74765)\n"
          ]
        }
      ]
    },
    {
      "cell_type": "code",
      "source": [
        " # **kwags\n",
        "def person(name,**data):\n",
        "  print(name)\n",
        "  # print(data)\n",
        "  for i ,k in data.items():\n",
        "    print(i,k)\n",
        "\n",
        "person('Naman',age=34,city='Mumbai',mob=777549)"
      ],
      "metadata": {
        "colab": {
          "base_uri": "https://localhost:8080/"
        },
        "id": "7N-78i10vyH1",
        "outputId": "45712ce4-678e-41d7-c790-590c893c0ac7"
      },
      "execution_count": null,
      "outputs": [
        {
          "output_type": "stream",
          "name": "stdout",
          "text": [
            "Naman\n",
            "age 34\n",
            "city Mumbai\n",
            "mob 777549\n"
          ]
        }
      ]
    },
    {
      "cell_type": "code",
      "source": [
        "#Global Keyword\n",
        "a = 10\n",
        "print(id(a))\n",
        "def somethings():\n",
        "  a = 15\n",
        "  x = globals()['a']\n",
        "  print(id(x))\n",
        "  print(\"in funct\",a)\n",
        "\n",
        "  globals()['a'] = 13\n",
        "somethings()\n",
        "print('Outside',a)"
      ],
      "metadata": {
        "colab": {
          "base_uri": "https://localhost:8080/"
        },
        "id": "Bh3_TZWBxgRZ",
        "outputId": "d0f2ff13-e1a0-43e6-9e40-e2b970b326e8"
      },
      "execution_count": null,
      "outputs": [
        {
          "output_type": "stream",
          "name": "stdout",
          "text": [
            "134955340120592\n",
            "134955340120592\n",
            "in funct 15\n",
            "Outside 13\n"
          ]
        }
      ]
    },
    {
      "cell_type": "code",
      "source": [
        "# Pass List to a Function\n",
        "def even_oddCount(lst):\n",
        "  even = 0\n",
        "  odd = 0\n",
        "  for i in lst:\n",
        "    if i % 2 == 0:\n",
        "      even += 1\n",
        "    else:\n",
        "      odd += 1\n",
        "  return even,odd\n",
        "\n",
        "lst = [20,33,45,46,21,29,56,30,23,50,38,32,39]\n",
        "even,odd = even_oddCount(lst)\n",
        "print(f\"Even:{even} and Odd:{odd}\",)"
      ],
      "metadata": {
        "colab": {
          "base_uri": "https://localhost:8080/"
        },
        "id": "tRF_41ZPz47R",
        "outputId": "74d39ed2-fa64-4b6d-aea6-4ad91497c8f8"
      },
      "execution_count": null,
      "outputs": [
        {
          "output_type": "stream",
          "name": "stdout",
          "text": [
            "Even:7 and Odd:6\n"
          ]
        }
      ]
    },
    {
      "cell_type": "code",
      "source": [
        "#Factorials numbers\n",
        "def fact(n):\n",
        "  f = 1\n",
        "  for i in range(1,n+1):\n",
        "    f = f * i\n",
        "  return f\n",
        "\n",
        "x = 5\n",
        "result = fact(x)\n",
        "print(result)"
      ],
      "metadata": {
        "id": "pDjA0r0k2w3-",
        "colab": {
          "base_uri": "https://localhost:8080/"
        },
        "outputId": "7c687b56-49bd-4ffe-a905-9983e65b5255"
      },
      "execution_count": null,
      "outputs": [
        {
          "output_type": "stream",
          "name": "stdout",
          "text": [
            "120\n"
          ]
        }
      ]
    },
    {
      "cell_type": "code",
      "source": [
        "#Recursion\n",
        "def fact(n):\n",
        "  if n==0:\n",
        "    return 1\n",
        "  return n * fact(n-1)\n",
        "\n",
        "result = fact(5)\n",
        "print(result)"
      ],
      "metadata": {
        "colab": {
          "base_uri": "https://localhost:8080/"
        },
        "id": "16TEwsIsUM_M",
        "outputId": "749eed0c-2618-4626-f0f4-69d3674f9b38"
      },
      "execution_count": null,
      "outputs": [
        {
          "output_type": "stream",
          "name": "stdout",
          "text": [
            "120\n"
          ]
        }
      ]
    },
    {
      "cell_type": "code",
      "source": [
        "#Anonymous Function or Lambda function\n",
        "n = lambda a : a * a\n",
        "result = n(5)\n",
        "print(result)\n",
        "\n",
        "f = lambda a,b : a*b\n",
        "result = f(5,6)\n",
        "print(result)"
      ],
      "metadata": {
        "colab": {
          "base_uri": "https://localhost:8080/"
        },
        "id": "2lLrti_AXryb",
        "outputId": "48eefa54-e1a7-4fa2-d578-735b79b2c204"
      },
      "execution_count": null,
      "outputs": [
        {
          "output_type": "stream",
          "name": "stdout",
          "text": [
            "25\n",
            "30\n"
          ]
        }
      ]
    },
    {
      "cell_type": "code",
      "source": [
        "#Filter Map Reduce\n",
        "# def is_even(n):\n",
        "#   return n%2==0\n",
        "\n",
        "# nums = [2,3,4,5,7,8,9,4,1,2,6,8]\n",
        "# even = list(filter(is_even,nums))\n",
        "# print(even)\n",
        "\n",
        "nums = [2,3,4,5,7,8,9,4,1,2,6,8]\n",
        "even = list(filter(lambda n :n%2==0,nums))\n",
        "print(even)"
      ],
      "metadata": {
        "colab": {
          "base_uri": "https://localhost:8080/"
        },
        "id": "sgQgj3jmZypj",
        "outputId": "892a1a77-d92c-479d-c7d0-9d70605b3663"
      },
      "execution_count": null,
      "outputs": [
        {
          "output_type": "stream",
          "name": "stdout",
          "text": [
            "[2, 4, 8, 4, 2, 6, 8]\n"
          ]
        }
      ]
    },
    {
      "cell_type": "code",
      "source": [
        "#Map, filter and reduce in Python\n",
        "\n",
        "nums = [2,3,4,5,7,8,9,4,1,2,6,8]\n",
        "even = list(filter(lambda n :n%2==0,nums))\n",
        "doubles = list(map(lambda n : n*2,even))\n",
        "print(doubles)\n",
        "\n",
        "\n",
        "from functools import reduce\n",
        "sum = reduce(lambda a,b: a + b,doubles)\n",
        "print(sum)"
      ],
      "metadata": {
        "colab": {
          "base_uri": "https://localhost:8080/"
        },
        "id": "XtCoWoF9bVPE",
        "outputId": "093aa3d2-4881-400c-8a5e-9feebc868992"
      },
      "execution_count": null,
      "outputs": [
        {
          "output_type": "stream",
          "name": "stdout",
          "text": [
            "[4, 8, 16, 8, 4, 12, 16]\n",
            "68\n"
          ]
        }
      ]
    },
    {
      "cell_type": "code",
      "source": [
        "# Decorator in Python\n",
        "def div(a,b):\n",
        "  print(a/b)\n",
        "\n",
        "def smart_div(func):\n",
        "  def inner(a,b):\n",
        "    if a < b:\n",
        "      a,b = b,a\n",
        "    return func(a,b)\n",
        "  return inner\n",
        "\n",
        "div = smart_div(div)\n",
        "div(2,4)"
      ],
      "metadata": {
        "colab": {
          "base_uri": "https://localhost:8080/"
        },
        "id": "l_8Gp795c3Y5",
        "outputId": "1a016c56-fa77-45d0-dabd-4f72c9336599"
      },
      "execution_count": null,
      "outputs": [
        {
          "output_type": "stream",
          "name": "stdout",
          "text": [
            "2.0\n"
          ]
        }
      ]
    },
    {
      "cell_type": "code",
      "source": [
        "#Special Variable __name__\n",
        "print(__name__)"
      ],
      "metadata": {
        "id": "I4S5CCEQjYSi",
        "colab": {
          "base_uri": "https://localhost:8080/"
        },
        "outputId": "92d1e0f7-297a-4acb-d513-34c8beb093fa"
      },
      "execution_count": null,
      "outputs": [
        {
          "output_type": "stream",
          "name": "stdout",
          "text": [
            "__main__\n"
          ]
        }
      ]
    },
    {
      "cell_type": "code",
      "source": [],
      "metadata": {
        "id": "Vg87Bjimi6Y8"
      },
      "execution_count": null,
      "outputs": []
    }
  ]
}